{
 "cells": [
  {
   "cell_type": "markdown",
   "metadata": {},
   "source": [
    "# Explore Your Data\n",
    "So you've just got a brand new dataset and are itching to start exploring it. But where do you begin, and how can you be sure your dataset is clean? This chapter will introduce you to the world of data cleaning in Python! You'll learn how to explore your data with an eye for diagnosing issues such as outliers, missing values, and duplicate rows.\n",
    "\n",
    "## Diagnose data for cleaning\n",
    "### Loading and viewing your data\n",
    "In this chapter, you're going to look at a subset of the Department of Buildings Job Application Filings dataset from the [NYC Open Data](http://opendata.cityofnewyork.us/) portal. This dataset consists of job applications filed on January 22, 2017.\n",
    "\n",
    "Your first task is to load this dataset into a DataFrame and then inspect it using the `.head()` and `.tail()` methods. However, you'll find out very quickly that the printed results don't allow you to see everything you need, since there are too many columns. Therefore, you need to look at the data in another way.\n",
    "\n",
    "The `.shape` and `.columns` attributes let you see the shape of the DataFrame and obtain a list of its columns. From here, you can see which columns are relevant to the questions you'd like to ask of the data. To this end, a new DataFrame, `df_subset`, consisting only of these relevant columns, has been pre-loaded. This is the DataFrame you'll work with in the rest of the chapter.\n",
    "\n",
    "Get acquainted with the dataset now by exploring it with pandas! This initial exploratory analysis is a crucial first step of data cleaning.\n",
    "\n",
    "**Instructions**\n",
    "* Import `pandas` as `pd`.\n",
    "* Read `'dob_job_application_filings_subset.csv'` ([data source](https://data.cityofnewyork.us/Housing-Development/DOB-Job-Application-Filings/ic3t-wcy2/data)) into a DataFrame called `df`.\n",
    "* Print the head and tail of `df`.\n",
    "* Print the shape of `df` and its columns. Note: `.shape` and `.columns` are attributes, not methods, so you don't need to follow these with parentheses `()`."
   ]
  },
  {
   "cell_type": "code",
   "execution_count": 1,
   "metadata": {},
   "outputs": [
    {
     "name": "stdout",
     "output_type": "stream",
     "text": [
      "       Job #  Doc #        Borough       House #  \\\n",
      "0  121577873      2      MANHATTAN  386            \n",
      "1  520129502      1  STATEN ISLAND  107            \n",
      "2  121601560      1      MANHATTAN  63             \n",
      "3  121601203      1      MANHATTAN  48             \n",
      "4  121601338      1      MANHATTAN  45             \n",
      "\n",
      "                        Street Name  Block  Lot    Bin # Job Type Job Status  \\\n",
      "0  PARK AVENUE SOUTH                   857   38  1016890       A2          D   \n",
      "1  KNOX PLACE                          342    1  5161350       A3          A   \n",
      "2  WEST 131 STREET                    1729    9  1053831       A2          Q   \n",
      "3  WEST 25TH STREET                    826   69  1015610       A2          D   \n",
      "4  WEST 29 STREET                      831    7  1015754       A3          D   \n",
      "\n",
      "            ...                         Owner's Last Name  \\\n",
      "0           ...            MIGLIORE                         \n",
      "1           ...            BLUMENBERG                       \n",
      "2           ...            MARKOWITZ                        \n",
      "3           ...            CASALE                           \n",
      "4           ...            LEE                              \n",
      "\n",
      "              Owner's Business Name Owner's House Number  \\\n",
      "0  MACKLOWE MANAGEMENT                      126            \n",
      "1  NA                                       107            \n",
      "2  635 RIVERSIDE DRIVE NY LLC               619            \n",
      "3  48 W 25 ST LLC C/O BERNSTEIN             150            \n",
      "4  HYUNG-HYANG REALTY CORP                  614            \n",
      "\n",
      "           Owner'sHouse Street Name            City  State    Zip  \\\n",
      "0  EAST 56TH STREET                  NEW YORK           NY  10222   \n",
      "1  KNOX PLACE                        STATEN ISLAND      NY  10314   \n",
      "2  WEST 54TH STREET                  NEW YORK           NY  10016   \n",
      "3  WEST 30TH STREET                  NEW YORK           NY  10001   \n",
      "4  8 AVENUE                          NEW YORK           NY  10001   \n",
      "\n",
      "  Owner'sPhone #                                    Job Description  \\\n",
      "0     2125545837  GENERAL MECHANICAL & PLUMBING MODIFICATIONS AS...   \n",
      "1     3477398892  BUILDERS PAVEMENT PLAN 143 LF.                ...   \n",
      "2     2127652555  GENERAL CONSTRUCTION TO INCLUDE NEW PARTITIONS...   \n",
      "3     2125941414  STRUCTURAL CHANGES ON THE 5TH FLOOR (MOONDOG E...   \n",
      "4     2019881222  FILING HEREWITH FACADE REPAIR PLANS. WORK SCOP...   \n",
      "\n",
      "               DOBRunDate  \n",
      "0  04/26/2013 12:00:00 AM  \n",
      "1  04/26/2013 12:00:00 AM  \n",
      "2  04/26/2013 12:00:00 AM  \n",
      "3  04/26/2013 12:00:00 AM  \n",
      "4  04/26/2013 12:00:00 AM  \n",
      "\n",
      "[5 rows x 82 columns]\n",
      "           Job #  Doc #        Borough House #       Street Name  Block   Lot  \\\n",
      "13275  520141613      2  STATEN ISLAND    3161  RICHMOND TERRACE   1208    15   \n",
      "13276  320772419      2       BROOKLYN      31     WALTON STREET   2244  7501   \n",
      "13277  320867111      4       BROOKLYN     272        NORMAN AVE   2658     1   \n",
      "13278  420794536      4         QUEENS   47-00     NORTHERN BLVD    143     1   \n",
      "13279  420839150      3         QUEENS   29-19       NEWTOWN AVE    597     7   \n",
      "\n",
      "         Bin # Job Type Job Status           ...           Owner's Last Name  \\\n",
      "13275  5162141       NB          D           ...                     CINTULA   \n",
      "13276  3345999       A1          D           ...                       GLUCK   \n",
      "13277  3337795       A1          D           ...                     ARGENTO   \n",
      "13278  4001351       NB          A           ...                MOSCAHLAIDIS   \n",
      "13279  4609936       NB          D           ...                   HOULIARAS   \n",
      "\n",
      "         Owner's Business Name Owner's House Number Owner'sHouse Street Name  \\\n",
      "13275   MCALLISTER TOWING INC.                 3165         RICHMOND TERRACE   \n",
      "13276            31 WALTON LLC                   31            WALTON STREET   \n",
      "13277          BROADWAY STUDIO                  203             MESEROLE AVE   \n",
      "13278    1734 BATHGATE AVE LLC                  860             FIFTH AVENUE   \n",
      "13279  L&A GROOUP HOLDINGS LLC                23-39                 BQE WEST   \n",
      "\n",
      "               City  State        Zip Owner'sPhone #  \\\n",
      "13275  STATEN ISLAND    NY  103030000     7182736300   \n",
      "13276       BROOKLYN    NY      11206     2122397500   \n",
      "13277       BROOKLYN    NY      11222     7183499093   \n",
      "13278       NEW YORK    NY      10065     6467751441   \n",
      "13279        ASTORIA    NY      11103     7187288038   \n",
      "\n",
      "                                         Job Description  \\\n",
      "13275  PILE FOUNDATION DESIGN AND STEEL FRAME SUPER S...   \n",
      "13276  STRUCTURAL FRAMING AND SPECIFICATIONS HEREWITH...   \n",
      "13277                               PLUMBING APPLICATION   \n",
      "13278                    FOUNDATION WORK AS SHOWN FOR NB   \n",
      "13279  I AM SUBSEQUENT APPLICANT FOR THE PLUMBING (PL...   \n",
      "\n",
      "                   DOBRunDate  \n",
      "13275  07/28/2015 12:00:00 AM  \n",
      "13276  11/06/2015 12:00:00 AM  \n",
      "13277  01/14/2016 12:00:00 AM  \n",
      "13278  03/23/2016 12:00:00 AM  \n",
      "13279  01/28/2017 12:00:00 AM  \n",
      "\n",
      "[5 rows x 82 columns]\n",
      "(13280, 82)\n",
      "Index(['Job #', 'Doc #', 'Borough', 'House #', 'Street Name', 'Block', 'Lot',\n",
      "       'Bin #', 'Job Type', 'Job Status', 'Job Status Descrp',\n",
      "       'Latest Action Date', 'Building Type', 'Community - Board', 'Cluster',\n",
      "       'Landmarked', 'Adult Estab', 'Loft Board', 'City Owned', 'Little e',\n",
      "       'PC Filed', 'eFiling Filed', 'Plumbing', 'Mechanical', 'Boiler',\n",
      "       'Fuel Burning', 'Fuel Storage', 'Standpipe', 'Sprinkler', 'Fire Alarm',\n",
      "       'Equipment', 'Fire Suppression', 'Curb Cut', 'Other',\n",
      "       'Other Description', 'Applicant's First Name', 'Applicant's Last Name',\n",
      "       'Applicant Professional Title', 'Applicant License #',\n",
      "       'Professional Cert', 'Pre- Filing Date', 'Paid', 'Fully Paid',\n",
      "       'Assigned', 'Approved', 'Fully Permitted', 'Initial Cost',\n",
      "       'Total Est. Fee', 'Fee Status', 'Existing Zoning Sqft',\n",
      "       'Proposed Zoning Sqft', 'Horizontal Enlrgmt', 'Vertical Enlrgmt',\n",
      "       'Enlargement SQ Footage', 'Street Frontage', 'ExistingNo. of Stories',\n",
      "       'Proposed No. of Stories', 'Existing Height', 'Proposed Height',\n",
      "       'Existing Dwelling Units', 'Proposed Dwelling Units',\n",
      "       'Existing Occupancy', 'Proposed Occupancy', 'Site Fill', 'Zoning Dist1',\n",
      "       'Zoning Dist2', 'Zoning Dist3', 'Special District 1',\n",
      "       'Special District 2', 'Owner Type', 'Non-Profit', 'Owner's First Name',\n",
      "       'Owner's Last Name', 'Owner's Business Name', 'Owner's House Number',\n",
      "       'Owner'sHouse Street Name', 'City ', 'State', 'Zip', 'Owner'sPhone #',\n",
      "       'Job Description', 'DOBRunDate'],\n",
      "      dtype='object')\n",
      "       Job #  Doc #        Borough Initial Cost Total Est. Fee  \\\n",
      "0  121577873      2      MANHATTAN    $75000.00        $986.00   \n",
      "1  520129502      1  STATEN ISLAND        $0.00       $1144.00   \n",
      "2  121601560      1      MANHATTAN    $30000.00        $522.50   \n",
      "3  121601203      1      MANHATTAN     $1500.00        $225.00   \n",
      "4  121601338      1      MANHATTAN    $19500.00        $389.50   \n",
      "\n",
      "   Existing Zoning Sqft  Proposed Zoning Sqft  Enlargement SQ Footage  \\\n",
      "0                     0                     0                       0   \n",
      "1                     0                     0                       0   \n",
      "2                     0                     0                       0   \n",
      "3                     0                     0                       0   \n",
      "4                     0                     0                       0   \n",
      "\n",
      "   Street Frontage  ExistingNo. of Stories  Proposed No. of Stories  \\\n",
      "0                0                       0                        0   \n",
      "1              143                       0                        0   \n",
      "2                0                       5                        5   \n",
      "3                0                      12                       12   \n",
      "4                0                       6                        6   \n",
      "\n",
      "   Existing Height  Proposed Height  \n",
      "0                0                0  \n",
      "1                0                0  \n",
      "2               54               54  \n",
      "3              120              120  \n",
      "4               64               64  \n",
      "           Job #  Doc #        Borough Initial Cost Total Est. Fee  \\\n",
      "13275  520141613      2  STATEN ISLAND        $0.00          $0.00   \n",
      "13276  320772419      2       BROOKLYN        $0.00          $0.00   \n",
      "13277  320867111      4       BROOKLYN        $0.00          $0.00   \n",
      "13278  420794536      4         QUEENS        $0.00          $0.00   \n",
      "13279  420839150      3         QUEENS        $0.00          $0.00   \n",
      "\n",
      "       Existing Zoning Sqft  Proposed Zoning Sqft  Enlargement SQ Footage  \\\n",
      "13275                     0                     0                       0   \n",
      "13276                     0                     0                       0   \n",
      "13277                     0                     0                       0   \n",
      "13278                     0                     0                       0   \n",
      "13279                     0                     0                       0   \n",
      "\n",
      "       Street Frontage  ExistingNo. of Stories  Proposed No. of Stories  \\\n",
      "13275                0                       0                        0   \n",
      "13276                0                       0                        0   \n",
      "13277                0                       0                        0   \n",
      "13278                0                       0                        0   \n",
      "13279                0                       0                        0   \n",
      "\n",
      "       Existing Height  Proposed Height  \n",
      "13275                0                0  \n",
      "13276                0                0  \n",
      "13277                0                0  \n",
      "13278                0                0  \n",
      "13279                0                0  \n"
     ]
    },
    {
     "name": "stderr",
     "output_type": "stream",
     "text": [
      "C:\\stat_tools\\Anaconda3\\lib\\site-packages\\IPython\\core\\interactiveshell.py:2717: DtypeWarning: Columns (16) have mixed types. Specify dtype option on import or set low_memory=False.\n",
      "  interactivity=interactivity, compiler=compiler, result=result)\n"
     ]
    }
   ],
   "source": [
    "# Import pandas\n",
    "import pandas as pd\n",
    "\n",
    "# Read the file into a DataFrame: df\n",
    "df = pd.read_csv(\"practice_data/c7/df7-1-raw.csv\")\n",
    "df_subset = pd.read_csv(\"practice_data/c7/df7-1-raw-subset.csv\")\n",
    "\n",
    "# Print the head of df\n",
    "print(df.head())\n",
    "\n",
    "# Print the tail of df\n",
    "print(df.tail())\n",
    "\n",
    "# Print the shape of df\n",
    "print(df.shape)\n",
    "\n",
    "# Print the columns of df\n",
    "print(df.columns)\n",
    "\n",
    "# Print the head and tail of df_subset\n",
    "print(df_subset.head())\n",
    "print(df_subset.tail())"
   ]
  },
  {
   "cell_type": "markdown",
   "metadata": {},
   "source": [
    "### Further diagnosis\n",
    "In the previous exercise, you identified some potentially unclean or missing data. Now, you'll continue to diagnose your data with the very useful `.info()` method.\n",
    "\n",
    "The `.info()` method provides important information about a DataFrame, such as the number of rows, number of columns, number of non-missing values in each column, and the data type stored in each column. This is the kind of information that will allow you to confirm whether the `'Initial Cost'` and `'Total Est. Fee'` columns are numeric or strings. From the results, you'll also be able to see whether or not all columns have complete data in them.\n",
    "\n",
    "The full DataFrame df and the subset DataFrame df_subset have been pre-loaded. Your task is to use the `.info()` method on these and analyze the results.\n",
    "\n",
    "**Instructions**\n",
    "* Print the info of *df*.\n",
    "* Print the info of the subset dataframe, *df_subset*"
   ]
  },
  {
   "cell_type": "code",
   "execution_count": 2,
   "metadata": {},
   "outputs": [
    {
     "name": "stdout",
     "output_type": "stream",
     "text": [
      "<class 'pandas.core.frame.DataFrame'>\n",
      "RangeIndex: 13280 entries, 0 to 13279\n",
      "Data columns (total 82 columns):\n",
      "Job #                           13280 non-null int64\n",
      "Doc #                           13280 non-null int64\n",
      "Borough                         13280 non-null object\n",
      "House #                         13280 non-null object\n",
      "Street Name                     13280 non-null object\n",
      "Block                           13280 non-null int64\n",
      "Lot                             13280 non-null int64\n",
      "Bin #                           13280 non-null int64\n",
      "Job Type                        13280 non-null object\n",
      "Job Status                      13280 non-null object\n",
      "Job Status Descrp               13280 non-null object\n",
      "Latest Action Date              13280 non-null object\n",
      "Building Type                   13280 non-null object\n",
      "Community - Board               13280 non-null object\n",
      "Cluster                         0 non-null float64\n",
      "Landmarked                      2116 non-null object\n",
      "Adult Estab                     1 non-null object\n",
      "Loft Board                      65 non-null object\n",
      "City Owned                      1441 non-null object\n",
      "Little e                        396 non-null object\n",
      "PC Filed                        0 non-null float64\n",
      "eFiling Filed                   13276 non-null object\n",
      "Plumbing                        13240 non-null object\n",
      "Mechanical                      13243 non-null object\n",
      "Boiler                          13233 non-null object\n",
      "Fuel Burning                    13230 non-null object\n",
      "Fuel Storage                    13230 non-null object\n",
      "Standpipe                       13231 non-null object\n",
      "Sprinkler                       13233 non-null object\n",
      "Fire Alarm                      13230 non-null object\n",
      "Equipment                       13231 non-null object\n",
      "Fire Suppression                13230 non-null object\n",
      "Curb Cut                        13235 non-null object\n",
      "Other                           13258 non-null object\n",
      "Other Description               13258 non-null object\n",
      "Applicant's First Name          13280 non-null object\n",
      "Applicant's Last Name           13280 non-null object\n",
      "Applicant Professional Title    13280 non-null object\n",
      "Applicant License #             13239 non-null float64\n",
      "Professional Cert               6933 non-null object\n",
      "Pre- Filing Date                13280 non-null object\n",
      "Paid                            12340 non-null object\n",
      "Fully Paid                      12343 non-null object\n",
      "Assigned                        3951 non-null object\n",
      "Approved                        4067 non-null object\n",
      "Fully Permitted                 1495 non-null object\n",
      "Initial Cost                    13280 non-null object\n",
      "Total Est. Fee                  13280 non-null object\n",
      "Fee Status                      13280 non-null object\n",
      "Existing Zoning Sqft            13280 non-null int64\n",
      "Proposed Zoning Sqft            13280 non-null int64\n",
      "Horizontal Enlrgmt              232 non-null object\n",
      "Vertical Enlrgmt                143 non-null object\n",
      "Enlargement SQ Footage          13280 non-null int64\n",
      "Street Frontage                 13280 non-null int64\n",
      "ExistingNo. of Stories          13280 non-null int64\n",
      "Proposed No. of Stories         13280 non-null int64\n",
      "Existing Height                 13280 non-null int64\n",
      "Proposed Height                 13280 non-null int64\n",
      "Existing Dwelling Units         6694 non-null float64\n",
      "Proposed Dwelling Units         6882 non-null float64\n",
      "Existing Occupancy              13230 non-null object\n",
      "Proposed Occupancy              13230 non-null object\n",
      "Site Fill                       8653 non-null object\n",
      "Zoning Dist1                    11275 non-null object\n",
      "Zoning Dist2                    1654 non-null object\n",
      "Zoning Dist3                    88 non-null object\n",
      "Special District 1              3066 non-null object\n",
      "Special District 2              850 non-null object\n",
      "Owner Type                      0 non-null float64\n",
      "Non-Profit                      993 non-null object\n",
      "Owner's First Name              13280 non-null object\n",
      "Owner's Last Name               13280 non-null object\n",
      "Owner's Business Name           13272 non-null object\n",
      "Owner's House Number            13280 non-null object\n",
      "Owner'sHouse Street Name        13280 non-null object\n",
      "City                            13280 non-null object\n",
      "State                           13280 non-null object\n",
      "Zip                             13280 non-null int64\n",
      "Owner'sPhone #                  13280 non-null int64\n",
      "Job Description                 13133 non-null object\n",
      "DOBRunDate                      13280 non-null object\n",
      "dtypes: float64(6), int64(15), object(61)\n",
      "memory usage: 8.3+ MB\n",
      "None\n",
      "<class 'pandas.core.frame.DataFrame'>\n",
      "RangeIndex: 13280 entries, 0 to 13279\n",
      "Data columns (total 13 columns):\n",
      "Job #                      13280 non-null int64\n",
      "Doc #                      13280 non-null int64\n",
      "Borough                    13280 non-null object\n",
      "Initial Cost               13280 non-null object\n",
      "Total Est. Fee             13280 non-null object\n",
      "Existing Zoning Sqft       13280 non-null int64\n",
      "Proposed Zoning Sqft       13280 non-null int64\n",
      "Enlargement SQ Footage     13280 non-null int64\n",
      "Street Frontage            13280 non-null int64\n",
      "ExistingNo. of Stories     13280 non-null int64\n",
      "Proposed No. of Stories    13280 non-null int64\n",
      "Existing Height            13280 non-null int64\n",
      "Proposed Height            13280 non-null int64\n",
      "dtypes: int64(10), object(3)\n",
      "memory usage: 1.3+ MB\n",
      "None\n"
     ]
    }
   ],
   "source": [
    "# Print the info of df\n",
    "print(df.info())\n",
    "\n",
    "# Print the info of df_subset\n",
    "print(df_subset.info())"
   ]
  },
  {
   "cell_type": "markdown",
   "metadata": {},
   "source": [
    "## Exploratory data analysis\n",
    "### Calculating summary statistics\n",
    "You'll now use the `.describe()` method to calculate summary statistics of your data.\n",
    "\n",
    "In this exercise, the columns `'Initial Cost'` and `'Total Est. Fee'` have been cleaned up for you. That is, the dollar sign has been removed and they have been converted into two new numeric columns: `initial_cost` and `total_est_fee`. You'll learn how to do this yourself in later chapters. Also worth noting is that some columns such as `Job #` are encoded as numeric columns, but it does not make sense to compute summary statistics for such columns.\n",
    "\n",
    "This cleaned DataFrame has been pre-loaded as df. Your job is to use the .describe() method on it in the IPython Shell and select the statement below that is **False**.\n",
    "\n",
    "**Possible Answers**\n",
    "1. The mean of 'Proposed No. of Stories' is 8.144325.\n",
    "2. The standard deviation of 'Existing Height' is 146.917360.\n",
    "3. There are 12846 entries in the DataFrame.\n",
    "4. The standard deviation of 'Street Frontage' is 11.874080.\n",
    "5. The maximum of 'Proposed Height' is 4200.\n",
    "\n",
    "*Answer: 4*\n",
    "\n",
    "### Frequency counts for categorical data\n",
    "As you've seen, `.describe()` can only be used on numeric columns. So how can you diagnose data issues when you have categorical data? One way is by using the `.value_counts()` method, which returns the frequency counts for each unique value in a column!\n",
    "\n",
    "This method also has an optional parameter called `dropna` which is `True` by default. What this means is if you have missing data in a column, it will not give a frequency count of them. You want to set the `dropna` column to `False` so if there are missing values in a column, it will give you the frequency counts.\n",
    "\n",
    "In this exercise, you're going to look at the `'Borough'`, `'State'`, and `'Site Fill'` columns to make sure all the values in there are valid. When looking at the output, do a sanity check: Are all values in the `'State'` column from `NY`, for example? Since the dataset consists of applications filed in NY, you would expect this to be the case.\n",
    "\n",
    "**Instructions**\n",
    "* Print the value counts for:\n",
    " * The `'Borough'` column.\n",
    " * The `'State'` column.\n",
    " * The `'Site Fill'` column."
   ]
  },
  {
   "cell_type": "code",
   "execution_count": 3,
   "metadata": {},
   "outputs": [
    {
     "name": "stdout",
     "output_type": "stream",
     "text": [
      "MANHATTAN        6454\n",
      "BROOKLYN         3051\n",
      "QUEENS           2201\n",
      "BRONX             989\n",
      "STATEN ISLAND     585\n",
      "Name: Borough, dtype: int64\n",
      "NY    12812\n",
      "NJ      249\n",
      "PA       38\n",
      "CA       20\n",
      "OH       20\n",
      "CT       18\n",
      "IL       17\n",
      "FL       17\n",
      "TX       13\n",
      "TN       10\n",
      "DC        7\n",
      "MD        7\n",
      "GA        6\n",
      "MA        6\n",
      "KS        6\n",
      "VA        5\n",
      "CO        5\n",
      "SC        4\n",
      "WI        3\n",
      "AZ        3\n",
      "MN        3\n",
      "NC        2\n",
      "RI        2\n",
      "UT        2\n",
      "MI        1\n",
      "WA        1\n",
      "VT        1\n",
      "IN        1\n",
      "NM        1\n",
      "Name: State, dtype: int64\n",
      "NOT APPLICABLE                              7814\n",
      "NaN                                         4627\n",
      "ON-SITE                                      521\n",
      "OFF-SITE                                     188\n",
      "USE UNDER 300 CU.YD                          130\n",
      "Name: Site Fill, dtype: int64\n"
     ]
    }
   ],
   "source": [
    "# Print the value counts for 'Borough'\n",
    "print(df['Borough'].value_counts(dropna = False))\n",
    "\n",
    "# Print the value_counts for 'State'\n",
    "print(df['State'].value_counts(dropna = False))\n",
    "\n",
    "# Print the value counts for 'Site Fill'\n",
    "print(df['Site Fill'].value_counts(dropna = False))"
   ]
  },
  {
   "cell_type": "markdown",
   "metadata": {},
   "source": [
    "## Visual exploratory data analysis\n",
    "### Visualizing single variables with histograms\n",
    "Up until now, you've been looking at descriptive statistics of your data. One of the best ways to confirm what the numbers are telling you is to plot and visualize the data.\n",
    "\n",
    "You'll start by visualizing single variables using a histogram for numeric values. The column you will work on in this exercise is `'Existing Zoning Sqft'`.\n",
    "\n",
    "The `.plot()` method allows you to create a plot of each column of a DataFrame. The `kind` parameter allows you to specify the type of plot to use - `kind='hist'`, for example, plots a histogram.\n",
    "\n",
    "In the IPython Shell, begin by computing summary statistics for the `'Existing Zoning Sqft'` column using the `.describe()` method. You'll notice that there are extremely large differences between the `min` and `max` values, and the plot will need to be adjusted accordingly. In such cases, it's good to look at the plot on a log scale. The keyword arguments `logx=True` or `logy=True` can be passed in to `.plot()` depending on which axis you want to rescale.\n",
    "\n",
    "Finally, note that Python will render a plot such that the axis will hold all the information. That is, if you end up with large amounts of whitespace in your plot, it indicates counts or values too small to render.\n",
    "\n",
    "**Instruction**\n",
    "* Import `matplotlib.pyplot` as `plt`.\n",
    "* Create a histogram of the `'Existing Zoning Sqft'` column. Rotate the axis labels by 70 degrees and use a log scale for both axes.\n",
    "* Display the histogram using `plt.show()`."
   ]
  },
  {
   "cell_type": "code",
   "execution_count": 4,
   "metadata": {},
   "outputs": [
    {
     "data": {
      "image/png": "[encoded data removed]",
      "text/plain": [
       "<matplotlib.figure.Figure at 0x16722030c88>"
      ]
     },
     "metadata": {},
     "output_type": "display_data"
    }
   ],
   "source": [
    "# Import matplotlib.pyplot\n",
    "import matplotlib.pyplot as plt\n",
    "\n",
    "# Plot the histogram\n",
    "df['Existing Zoning Sqft'].plot(kind='hist', rot=70, logx=True, logy=True)\n",
    "\n",
    "# Display the histogram\n",
    "plt.show()"
   ]
  },
  {
   "cell_type": "markdown",
   "metadata": {},
   "source": [
    "### Visualizing multiple variables with boxplots\n",
    "Histograms are great ways of visualizing single variables. To visualize multiple variables, boxplots are useful, especially when one of the variables is categorical.\n",
    "\n",
    "In this exercise, your job is to use a boxplot to compare the `'initial_cost'` across the different values of the `'Borough'` column. The `pandas` `.boxplot()` method is a quick way to do this, in which you have to specify the column and by parameters. Here, you want to visualize how `'initial_cost'` varies by `'Borough'`.\n",
    "\n",
    "`pandas` and `matplotlib.pyplot` have been imported for you as pd and plt, respectively, and the DataFrame has been pre-loaded as `df`.\n",
    "\n",
    "**Instructions**\n",
    "* Using the `.boxplot()` method of `df`, create a boxplot of `'initial_cost'` across the different values of `'Borough'`.\n",
    "* Display the plot."
   ]
  },
  {
   "cell_type": "code",
   "execution_count": 5,
   "metadata": {},
   "outputs": [
    {
     "name": "stderr",
     "output_type": "stream",
     "text": [
      "C:\\stat_tools\\Anaconda3\\lib\\site-packages\\IPython\\core\\interactiveshell.py:2717: DtypeWarning: Columns (16) have mixed types. Specify dtype option on import or set low_memory=False.\n",
      "  interactivity=interactivity, compiler=compiler, result=result)\n"
     ]
    },
    {
     "data": {
      "image/png": "[encoded data removed]",
      "text/plain": [
       "<matplotlib.figure.Figure at 0x167254a13c8>"
      ]
     },
     "metadata": {},
     "output_type": "display_data"
    }
   ],
   "source": [
    "# Import necessary modules\n",
    "import pandas as pd\n",
    "import matplotlib.pyplot as plt\n",
    "\n",
    "df = pd.read_csv(\"practice_data/c7/df7-1-plot.csv\")\n",
    "\n",
    "# Create the boxplot\n",
    "df.boxplot(column='initial_cost', by='Borough', rot=90)\n",
    "\n",
    "# Display the plot\n",
    "plt.show()\n",
    "plt.gcf().clear()"
   ]
  },
  {
   "cell_type": "markdown",
   "metadata": {},
   "source": [
    "### Visualizing multiple variables with scatter plots\n",
    "Boxplots are great when you have a numeric column that you want to compare across different categories. When you want to visualize two numeric columns, scatter plots are ideal.\n",
    "\n",
    "In this exercise, your job is to make a scatter plot with `'initial_cost'` on the x-axis and the `'total_est_fee'` on the y-axis. You can do this by using the DataFrame `.plot()` method with `kind='scatter'`. You'll notice right away that there are 2 major outliers shown in the plots.\n",
    "\n",
    "Since these outliers dominate the plot, an additional DataFrame, `df_subset`, has been provided, in which some of the extreme values have been removed. After making a scatter plot using this, you'll find some interesting patterns here that would not have been seen by looking at summary statistics or 1 variable plots.\n",
    "\n",
    "When you're done, you can cycle between the two plots by clicking the 'Previous Plot' and 'Next Plot' buttons below the plot.\n",
    "\n",
    "**Instructions**\n",
    "* Using `df`, create a scatter plot (`kind='scatter'`) with `'initial_cost'` on the x-axis and the `'total_est_fee'` on the y-axis. Rotate the x-axis labels by `70` degrees.\n",
    "* Create another scatter plot exactly as above, substituting `df_subset` in place of `df`."
   ]
  },
  {
   "cell_type": "code",
   "execution_count": 6,
   "metadata": {},
   "outputs": [
    {
     "name": "stdout",
     "output_type": "stream",
     "text": [
      "       Job #  Doc #        Borough House #                       Street Name  \\\n",
      "0  121577873      2      MANHATTAN     386  PARK AVENUE SOUTH                  \n",
      "1  520129502      1  STATEN ISLAND     107  KNOX PLACE                         \n",
      "2  121601560      1      MANHATTAN      63  WEST 131 STREET                    \n",
      "3  121601203      1      MANHATTAN      48  WEST 25TH STREET                   \n",
      "4  121601338      1      MANHATTAN      45  WEST 29 STREET                     \n",
      "\n",
      "   Block  Lot    Bin # Job Type Job Status      ...      Owner's House Number  \\\n",
      "0    857   38  1016890       A2          D      ...                       126   \n",
      "1    342    1  5161350       A3          A      ...                       107   \n",
      "2   1729    9  1053831       A2          Q      ...                       619   \n",
      "3    826   69  1015610       A2          D      ...                       150   \n",
      "4    831    7  1015754       A3          D      ...                       614   \n",
      "\n",
      "           Owner'sHouse Street Name            City  State    Zip  \\\n",
      "0  EAST 56TH STREET                  NEW YORK           NY  10222   \n",
      "1  KNOX PLACE                        STATEN ISLAND      NY  10314   \n",
      "2  WEST 54TH STREET                  NEW YORK           NY  10016   \n",
      "3  WEST 30TH STREET                  NEW YORK           NY  10001   \n",
      "4  8 AVENUE                          NEW YORK           NY  10001   \n",
      "\n",
      "  Owner'sPhone #                                    Job Description  \\\n",
      "0     2125545837  GENERAL MECHANICAL & PLUMBING MODIFICATIONS AS...   \n",
      "1     3477398892  BUILDERS PAVEMENT PLAN 143 LF.                ...   \n",
      "2     2127652555  GENERAL CONSTRUCTION TO INCLUDE NEW PARTITIONS...   \n",
      "3     2125941414  STRUCTURAL CHANGES ON THE 5TH FLOOR (MOONDOG E...   \n",
      "4     2019881222  FILING HEREWITH FACADE REPAIR PLANS. WORK SCOP...   \n",
      "\n",
      "       DOBRunDate initial_cost total_est_fee  \n",
      "0  4/26/2013 0:00        75000         986.0  \n",
      "1  4/26/2013 0:00            0        1144.0  \n",
      "2  4/26/2013 0:00        30000         522.5  \n",
      "3  4/26/2013 0:00         1500         225.0  \n",
      "4  4/26/2013 0:00        19500         389.5  \n",
      "\n",
      "[5 rows x 84 columns]\n"
     ]
    },
    {
     "name": "stderr",
     "output_type": "stream",
     "text": [
      "C:\\stat_tools\\Anaconda3\\lib\\site-packages\\IPython\\core\\interactiveshell.py:2717: DtypeWarning: Columns (16) have mixed types. Specify dtype option on import or set low_memory=False.\n",
      "  interactivity=interactivity, compiler=compiler, result=result)\n"
     ]
    },
    {
     "data": {
      "text/plain": [
       "<matplotlib.figure.Figure at 0x167255df860>"
      ]
     },
     "metadata": {},
     "output_type": "display_data"
    },
    {
     "data": {
      "image/png": "[encoded data removed]",
      "text/plain": [
       "<matplotlib.figure.Figure at 0x16723e02fd0>"
      ]
     },
     "metadata": {},
     "output_type": "display_data"
    },
    {
     "data": {
      "image/png": "[encoded data removed]",
      "text/plain": [
       "<matplotlib.figure.Figure at 0x16726509dd8>"
      ]
     },
     "metadata": {},
     "output_type": "display_data"
    }
   ],
   "source": [
    "# Import necessary modules\n",
    "import pandas as pd\n",
    "import matplotlib.pyplot as plt\n",
    "\n",
    "df_subset = pd.read_csv(\"practice_data/c7/df7-1-plot_subset.csv\")\n",
    "print(df_subset.head())\n",
    "\n",
    "# Create and display the first scatter plot\n",
    "df.plot(kind='scatter', x='initial_cost', y='total_est_fee', rot=70)\n",
    "plt.show()\n",
    "\n",
    "# Create and display the second scatter plot\n",
    "df_subset.plot(kind='scatter', x='initial_cost', y='total_est_fee', rot=70)\n",
    "plt.show()"
   ]
  },
  {
   "cell_type": "markdown",
   "metadata": {},
   "source": [
    "# Tidying Data for Analysis\n",
    "Here, you'll learn about the principles of tidy data and more importantly, why you should care about them and how they make subsequent data analysis more efficient. You'll gain first hand experience with reshaping and tidying your data using techniques such as pivoting and melting.\n",
    "\n",
    "## Tidy data\n",
    "### Recognizing tidy data\n",
    "For data to be tidy, it must have:\n",
    "\n",
    "* Each variable as a separate column.\n",
    "* Each row as a separate observation.\n",
    "\n",
    "As a data scientist, you'll encounter data that is represented in a variety of different ways, so it is important to be able to recognize tidy (or untidy) data when you see it.\n",
    "\n",
    "In this exercise, two example datasets have been pre-loaded into the DataFrames `df1` and `df2`. Only one of them is tidy. Your job is to explore these further in the IPython Shell and identify the one that is not tidy, and why it is not tidy.\n",
    "\n",
    "In the rest of this course, you will frequently be asked to explore the structure of DataFrames in the IPython Shell prior to performing different operations on them. Doing this will not only strengthen your comprehension of the data cleaning concepts covered in this course, but will also help you realize and take advantage of the relationship between working in the Shell and in the script.\n",
    "\n",
    "**Possible Answers**\n",
    "1. `df2`; the rows are not all separate observations.\n",
    "2. `df1`; each variable is not a separate column.\n",
    "3. `df2`; each variable is not a separate column.\n",
    "4. `df1`; the rows are not all separate observations.\n",
    "\n",
    "*Answer: 3*\n",
    "\n",
    "### Reshaping your data using melt\n",
    "Melting data is the process of turning columns of your data into rows of data. Consider the DataFrames from the previous exercise. In the tidy DataFrame, the variables `Ozone`, `Solar.R`, `Wind`, and `Temp` each had their own column. If, however, you wanted these variables to be in rows instead, you could melt the DataFrame. In doing so, however, you would make the data untidy! This is important to keep in mind: Depending on how your data is represented, you will have to reshape it differently.\n",
    "\n",
    "In this exercise, you will practice melting a DataFrame using `pd.melt()`. There are two parameters you should be aware of: `id_vars` and `value_vars`. The `id_vars` represent the columns of the data you do not want to melt (i.e., keep it in its current shape), while the `value_vars` represent the columns you do wish to melt into rows. By default, if no `value_vars` are provided, all columns not set in the `id_vars` will be melted. This could save a bit of typing, depending on the number of columns that need to be melted.\n",
    "\n",
    "The (tidy) DataFrame `airquality` has been pre-loaded. Your job is to melt its `Ozone`, `Solar.R`, `Wind`, and `Temp` columns into rows. Later in this chapter, you'll learn how to bring this melted DataFrame back into a tidy form.\n",
    "\n",
    "**Instructions**\n",
    "* Print the head of `airquality`.\n",
    "* Use `pd.melt()` to melt the `Ozone`, `Solar.R`, `Wind`, and `Temp` columns of `airquality` into rows. Do this by using `id_vars` to specify the columns you do not wish to melt: '`Month'` and `'Day'`.\n",
    "* Print the head of `airquality_melt`."
   ]
  },
  {
   "cell_type": "code",
   "execution_count": 7,
   "metadata": {},
   "outputs": [
    {
     "name": "stdout",
     "output_type": "stream",
     "text": [
      "   Ozone  Solar.R  Wind  Temp  Month  Day\n",
      "0   41.0    190.0   7.4    67      5    1\n",
      "1   36.0    118.0   8.0    72      5    2\n",
      "2   12.0    149.0  12.6    74      5    3\n",
      "3   18.0    313.0  11.5    62      5    4\n",
      "4    NaN      NaN  14.3    56      5    5\n",
      "   Month  Day variable  value\n",
      "0      5    1    Ozone   41.0\n",
      "1      5    2    Ozone   36.0\n",
      "2      5    3    Ozone   12.0\n",
      "3      5    4    Ozone   18.0\n",
      "4      5    5    Ozone    NaN\n"
     ]
    }
   ],
   "source": [
    "airquality = pd.read_csv(\"practice_data/c7/df7-2_df1.csv\")\n",
    "\n",
    "# Print the head of airquality\n",
    "print(airquality.head())\n",
    "\n",
    "# Melt airquality: airquality_melt\n",
    "airquality_melt = pd.melt(airquality, id_vars=['Month', 'Day'])\n",
    "# Compare to R, dplyr::gather\n",
    "\n",
    "# Print the head of airquality_melt\n",
    "print(airquality_melt.head())\n"
   ]
  },
  {
   "cell_type": "markdown",
   "metadata": {},
   "source": [
    "### Customizing melted data\n",
    "When melting DataFrames, it would be better to have column names more meaningful than `variable` and `value`.\n",
    "\n",
    "The default names may work in certain situations, but it's best to always have data that is self explanatory.\n",
    "\n",
    "You can rename the variable column by specifying an argument to the `var_name` parameter, and the value column by specifying an argument to the `value_name` parameter. You will now practice doing exactly this. The DataFrame airquality has been pre-loaded for you.\n",
    "\n",
    "**Instructions**\n",
    "* Print the head of `airquality`.\n",
    "* Melt the `Ozone`, `Solar.R`, `Wind`, and `Temp` columns of `airquality` into rows, with the default variable column renamed to `'measurement'` and the default value column renamed to `'reading'`. You can do this by specifying, respectively, the `var_name` and `value_name` parameters.\n",
    "* Print the head of `airquality_melt`."
   ]
  },
  {
   "cell_type": "code",
   "execution_count": 8,
   "metadata": {},
   "outputs": [
    {
     "name": "stdout",
     "output_type": "stream",
     "text": [
      "   Month  Day measurement  reading\n",
      "0      5    1       Ozone     41.0\n",
      "1      5    2       Ozone     36.0\n",
      "2      5    3       Ozone     12.0\n",
      "3      5    4       Ozone     18.0\n",
      "4      5    5       Ozone      NaN\n"
     ]
    }
   ],
   "source": [
    "# Melt airquality: airquality_melt\n",
    "airquality_melt = pd.melt(airquality, id_vars=['Month', 'Day'], var_name='measurement', value_name='reading')\n",
    "\n",
    "# Print the head of airquality_melt\n",
    "print(airquality_melt.head())"
   ]
  },
  {
   "cell_type": "markdown",
   "metadata": {},
   "source": [
    "## Pivoting data\n",
    "### Pivot data\n",
    "Pivoting data is the opposite of melting it. Remember the tidy form that the `airquality` DataFrame was in before you melted it? You'll now begin pivoting it back into that form using the `.pivot_table()` method!\n",
    "\n",
    "While melting takes a set of columns and turns it into a single column, pivoting will create a new column for each unique value in a specified column.\n",
    "\n",
    "`.pivot_table()` has an index parameter which you can use to specify the columns that you don't want pivoted: It is similar to the `id_vars` parameter of `pd.melt()`. Two other parameters that you have to specify are `columns` (the name of the column you want to pivot), and `values` (the values to be used when the column is pivoted). The melted DataFrame `airquality_melt` has been pre-loaded for you.\n",
    "\n",
    "**Instructions**\n",
    "* Print the head of `airquality_melt`.\n",
    "* Pivot `airquality_melt` by using `.pivot_table()` with the rows indexed by `'Month'` and `'Day'`, the columns indexed by `'measurement'`, and the values populated with `'reading'`.\n",
    "* Print the head of `airquality_pivot`."
   ]
  },
  {
   "cell_type": "code",
   "execution_count": 9,
   "metadata": {},
   "outputs": [
    {
     "name": "stdout",
     "output_type": "stream",
     "text": [
      "   Month  Day measurement  reading\n",
      "0      5    1       Ozone     41.0\n",
      "1      5    2       Ozone     36.0\n",
      "2      5    3       Ozone     12.0\n",
      "3      5    4       Ozone     18.0\n",
      "4      5    5       Ozone      NaN\n",
      "measurement  Ozone  Solar.R  Temp  Wind\n",
      "Month Day                              \n",
      "5     1       41.0    190.0  67.0   7.4\n",
      "      2       36.0    118.0  72.0   8.0\n",
      "      3       12.0    149.0  74.0  12.6\n",
      "      4       18.0    313.0  62.0  11.5\n",
      "      5        NaN      NaN  56.0  14.3\n"
     ]
    }
   ],
   "source": [
    "airquality_melt = pd.read_csv(\"practice_data/c7/df7-2_df2.csv\")\n",
    "\n",
    "# Print the head of airquality_melt\n",
    "print(airquality_melt.head())\n",
    "\n",
    "# Pivot airquality_melt: airquality_pivot\n",
    "airquality_pivot = airquality_melt.pivot_table(index=['Month', 'Day'], columns='measurement', values='reading')\n",
    "\n",
    "# Print the head of airquality_pivot\n",
    "print(airquality_pivot.head())\n"
   ]
  },
  {
   "cell_type": "markdown",
   "metadata": {},
   "source": [
    "### Resetting the index of a DataFrame\n",
    "After pivoting `airquality_melt` in the previous exercise, you didn't quite get back the original DataFrame.\n",
    "\n",
    "What you got back instead was a `pandas` DataFrame with a [hierarchical index (also known as a MultiIndex)](http://pandas.pydata.org/pandas-docs/stable/advanced.html).\n",
    "\n",
    "Hierarchical indexes are covered in depth in [Manipulating DataFrames](https://www.datacamp.com/courses/manipulating-dataframes-with-pandas) with `pandas`. In essence, they allow you to group columns or rows by another variable - in this case, by `'Month'` as well as `'Day'`.\n",
    "\n",
    "There's a very simple method you can use to get back the original DataFrame from the pivoted DataFrame: `.reset_index()`. Dan didn't show you how to use this method in the video, but you're now going to practice using it in this exercise to get back the original DataFrame from `airquality_pivot`, which has been pre-loaded.\n",
    "\n",
    "**Instructions**\n",
    "* Print the index of `airquality_pivot` by accessing its `.index` attribute. This has been done for you.\n",
    "* Reset the index of `airquality_pivot` using its `.reset_index()` method.\n",
    "* Print the new index of `airquality_pivot`.\n",
    "* Print the head of `airquality_pivot`."
   ]
  },
  {
   "cell_type": "code",
   "execution_count": 10,
   "metadata": {},
   "outputs": [
    {
     "name": "stdout",
     "output_type": "stream",
     "text": [
      "MultiIndex(levels=[[5, 6, 7, 8, 9], [1, 2, 3, 4, 5, 6, 7, 8, 9, 10, 11, 12, 13, 14, 15, 16, 17, 18, 19, 20, 21, 22, 23, 24, 25, 26, 27, 28, 29, 30, 31]],\n",
      "           labels=[[0, 0, 0, 0, 0, 0, 0, 0, 0, 0, 0, 0, 0, 0, 0, 0, 0, 0, 0, 0, 0, 0, 0, 0, 0, 0, 0, 0, 0, 0, 0, 1, 1, 1, 1, 1, 1, 1, 1, 1, 1, 1, 1, 1, 1, 1, 1, 1, 1, 1, 1, 1, 1, 1, 1, 1, 1, 1, 1, 1, 1, 2, 2, 2, 2, 2, 2, 2, 2, 2, 2, 2, 2, 2, 2, 2, 2, 2, 2, 2, 2, 2, 2, 2, 2, 2, 2, 2, 2, 2, 2, 2, 3, 3, 3, 3, 3, 3, 3, 3, 3, 3, 3, 3, 3, 3, 3, 3, 3, 3, 3, 3, 3, 3, 3, 3, 3, 3, 3, 3, 3, 3, 3, 4, 4, 4, 4, 4, 4, 4, 4, 4, 4, 4, 4, 4, 4, 4, 4, 4, 4, 4, 4, 4, 4, 4, 4, 4, 4, 4, 4, 4, 4], [0, 1, 2, 3, 4, 5, 6, 7, 8, 9, 10, 11, 12, 13, 14, 15, 16, 17, 18, 19, 20, 21, 22, 23, 24, 25, 26, 27, 28, 29, 30, 0, 1, 2, 3, 4, 5, 6, 7, 8, 9, 10, 11, 12, 13, 14, 15, 16, 17, 18, 19, 20, 21, 22, 23, 24, 25, 26, 27, 28, 29, 0, 1, 2, 3, 4, 5, 6, 7, 8, 9, 10, 11, 12, 13, 14, 15, 16, 17, 18, 19, 20, 21, 22, 23, 24, 25, 26, 27, 28, 29, 30, 0, 1, 2, 3, 4, 5, 6, 7, 8, 9, 10, 11, 12, 13, 14, 15, 16, 17, 18, 19, 20, 21, 22, 23, 24, 25, 26, 27, 28, 29, 30, 0, 1, 2, 3, 4, 5, 6, 7, 8, 9, 10, 11, 12, 13, 14, 15, 16, 17, 18, 19, 20, 21, 22, 23, 24, 25, 26, 27, 28, 29]],\n",
      "           names=['Month', 'Day'])\n",
      "RangeIndex(start=0, stop=153, step=1)\n",
      "measurement  Month  Day  Ozone  Solar.R  Temp  Wind\n",
      "0                5    1   41.0    190.0  67.0   7.4\n",
      "1                5    2   36.0    118.0  72.0   8.0\n",
      "2                5    3   12.0    149.0  74.0  12.6\n",
      "3                5    4   18.0    313.0  62.0  11.5\n",
      "4                5    5    NaN      NaN  56.0  14.3\n"
     ]
    }
   ],
   "source": [
    "# Print the index of airquality_pivot\n",
    "print(airquality_pivot.index)\n",
    "\n",
    "# Reset the index of airquality_pivot: airquality_pivot\n",
    "airquality_pivot = airquality_pivot.reset_index()\n",
    "\n",
    "# Print the new index of airquality_pivot\n",
    "print(airquality_pivot.index)\n",
    "\n",
    "# Print the head of airquality_pivot\n",
    "print(airquality_pivot.head())"
   ]
  },
  {
   "cell_type": "markdown",
   "metadata": {},
   "source": [
    "### Pivoting duplicate values\n",
    "So far, you've used the `.pivot_table()` method when there are multiple index values you want to hold constant during a pivot. In the video, Dan showed you how you can also use pivot tables to deal with duplicate values by providing an aggregation function through the `aggfunc` parameter. Here, you're going to combine both these uses of pivot tables.\n",
    "\n",
    "Let's say your data collection method accidentally duplicated your dataset. Such a dataset, in which each row is duplicated, has been pre-loaded as `airquality_dup`. In addition, the `airquality_melt` DataFrame from the previous exercise has been pre-loaded. Explore their shapes in the IPython Shell by accessing their `.shape` attributes to confirm the duplicate rows present in `airquality_dup`.\n",
    "\n",
    "You'll see that by using `.pivot_table()` and the `aggfunc` parameter, you can not only reshape your data, but also remove duplicates. Finally, you can then flatten the columns of the pivoted DataFrame using `.reset_index()`.\n",
    "\n",
    "`NumPy` and `pandas` have been imported as `np` and `pd` respectively.\n",
    "\n",
    "**Instructions**\n",
    "* Pivot airquality_dup by using `.pivot_table()` with the rows indexed by `'Month'` and `'Day'`, the columns indexed by `'measurement'`, and the values populated with `'reading'`. Use `np.mean` for the aggregation function.\n",
    "* Flatten `airquality_pivot` by resetting its index.\n",
    "* Print the head of `airquality_pivot` and then the original `airquality` DataFrame to compare their structure."
   ]
  },
  {
   "cell_type": "code",
   "execution_count": 11,
   "metadata": {},
   "outputs": [
    {
     "name": "stdout",
     "output_type": "stream",
     "text": [
      "measurement  Month  Day  Ozone  Solar.R  Temp  Wind\n",
      "0                5    1   41.0    190.0  67.0   7.4\n",
      "1                5    2   36.0    118.0  72.0   8.0\n",
      "2                5    3   12.0    149.0  74.0  12.6\n",
      "3                5    4   18.0    313.0  62.0  11.5\n",
      "4                5    5    NaN      NaN  56.0  14.3\n",
      "   Ozone  Solar.R  Wind  Temp  Month  Day\n",
      "0   41.0    190.0   7.4    67      5    1\n",
      "1   36.0    118.0   8.0    72      5    2\n",
      "2   12.0    149.0  12.6    74      5    3\n",
      "3   18.0    313.0  11.5    62      5    4\n",
      "4    NaN      NaN  14.3    56      5    5\n"
     ]
    }
   ],
   "source": [
    "import numpy as np\n",
    "\n",
    "airquality_dup = pd.read_csv(\"practice_data/c7/df7-2_df3.csv\")\n",
    "\n",
    "# Pivot airquality_dup: airquality_pivot\n",
    "airquality_pivot = airquality_dup.pivot_table(index=['Month', 'Day'], columns='measurement', values='reading', aggfunc=np.mean)\n",
    "\n",
    "# Reset the index of airquality_pivot\n",
    "airquality_pivot = airquality_pivot.reset_index()\n",
    "\n",
    "# Print the head of airquality_pivot\n",
    "print(airquality_pivot.head())\n",
    "\n",
    "# Print the head of airquality\n",
    "print(airquality.head())\n"
   ]
  },
  {
   "cell_type": "markdown",
   "metadata": {},
   "source": [
    "## Beyond melt and pivot\n",
    "### Splitting a column with .str\n",
    "The dataset you saw in the video, consisting of case counts of tuberculosis by `country`, `year`, `gender`, and `age` group, has been pre-loaded into a DataFrame as `tb`.\n",
    "\n",
    "In this exercise, you're going to tidy the `'m014'` column, which represents males aged 0-14 years of age. In order to parse this value, you need to extract the first letter into a new column for `gender`, and the rest into a column for `age_group`. Here, since you can parse values by position, you can take advantage of pandas' vectorized string slicing by using the `str` attribute of columns of type object.\n",
    "\n",
    "Begin by printing the columns of `tb` in the IPython Shell using its `.columns` attribute, and take note of the problematic column.\n",
    "\n",
    "**Instructions**\n",
    "* Melt `tb` keeping `'country'` and `'year'` fixed.\n",
    "* Create a `'gender'` column by slicing the first letter of the variable column of `tb_melt`.\n",
    "* Create an `'age_group'` column by slicing the rest of the variable column of `tb_melt`.\n",
    "* Print the head of `tb_melt`. "
   ]
  },
  {
   "cell_type": "code",
   "execution_count": 12,
   "metadata": {},
   "outputs": [
    {
     "name": "stdout",
     "output_type": "stream",
     "text": [
      "  country  year variable  value gender age_group\n",
      "0      AD  2000     m014    0.0      m       014\n",
      "1      AE  2000     m014    2.0      m       014\n",
      "2      AF  2000     m014   52.0      m       014\n",
      "3      AG  2000     m014    0.0      m       014\n",
      "4      AL  2000     m014    2.0      m       014\n"
     ]
    }
   ],
   "source": [
    "tb = pd.read_csv(\"practice_data/c7/df7-2_df4.csv\")\n",
    "\n",
    "# Melt tb: tb_melt\n",
    "tb_melt = pd.melt(tb, id_vars=['country', 'year'])\n",
    "\n",
    "# Create the 'gender' column\n",
    "tb_melt['gender'] = tb_melt.variable.str[0]\n",
    "\n",
    "# Create the 'age_group' column\n",
    "tb_melt['age_group'] = tb_melt.variable.str[1:]\n",
    "\n",
    "# Print the head of tb_melt\n",
    "print(tb_melt.head())"
   ]
  },
  {
   "cell_type": "markdown",
   "metadata": {},
   "source": [
    "### Splitting a column with .split() and .get()\n",
    "Another common way multiple variables are stored in columns is with a delimiter. You'll learn how to deal with such cases in this exercise, using a [dataset consisting of Ebola cases and death counts by state and country](https://data.humdata.org/dataset/ebola-cases-2014). It has been pre-loaded into a DataFrame as `ebola`.\n",
    "\n",
    "Print the columns of `ebola` in the IPython Shell using `ebola.columns`. Notice that the data has column names such as `Cases_Guinea` and `Deaths_Guinea`. Here, the underscore `_` serves as a delimiter between the first part (cases or deaths), and the second part (country).\n",
    "\n",
    "This time, you cannot directly slice the variable by position as in the previous exercise. You now need to use Python's built-in string method called `.split()`. By default, this method will split a string into parts separated by a space. However, in this case you want it to split by an underscore. You can do this on `Cases_Guinea`, for example, using `Cases_Guinea.split('_')`, which returns the list `['Cases', 'Guinea']`.\n",
    "\n",
    "The next challenge is to extract the first element of this list and assign it to a `type` variable, and the second element of the list to a `country` variable. You can accomplish this by accessing the `str `attribute of the column and using the `.get()` method to retrieve the 0 or 1 index, depending on the part you want.\n",
    "\n",
    "**Instructions**\n",
    "* Melt ebola using `'Date'` and `'Day'` as the `id_vars`, `'type_country'` as the `var_name`, and `'counts'` as the `value_name`.\n",
    "* Create a column called `'str_split'` by splitting the `'type_country'` column of `ebola_melt` on `'_'`. Note that you will first have to access the str attribute of `type_country` before you can use `.split()`.\n",
    "* Create a column called `'type'` by using the `.get()` method to retrieve index 0 of the `'str_split'` column of `ebola_melt`.\n",
    "* Create a column called `'country'` by using the `.get()` method to retrieve index 1 of the `'str_split'` column of `ebola_melt`.\n",
    "* Print the head of `ebola`. "
   ]
  },
  {
   "cell_type": "code",
   "execution_count": 13,
   "metadata": {},
   "outputs": [
    {
     "name": "stdout",
     "output_type": "stream",
     "text": [
      "         Date  Day  type_country  counts        str_split   type country\n",
      "0    1/5/2015  289  Cases_Guinea  2776.0  [Cases, Guinea]  Cases  Guinea\n",
      "1    1/4/2015  288  Cases_Guinea  2775.0  [Cases, Guinea]  Cases  Guinea\n",
      "2    1/3/2015  287  Cases_Guinea  2769.0  [Cases, Guinea]  Cases  Guinea\n",
      "3    1/2/2015  286  Cases_Guinea     NaN  [Cases, Guinea]  Cases  Guinea\n",
      "4  12/31/2014  284  Cases_Guinea  2730.0  [Cases, Guinea]  Cases  Guinea\n"
     ]
    }
   ],
   "source": [
    "ebola = pd.read_csv(\"practice_data/c7/df7-2_df5.csv\")\n",
    "# Melt ebola: ebola_melt\n",
    "ebola_melt = pd.melt(ebola, id_vars=['Date', 'Day'], var_name='type_country', value_name='counts')\n",
    "\n",
    "# Create the 'str_split' column\n",
    "ebola_melt['str_split'] = ebola_melt.type_country.str.split(\"_\")\n",
    "\n",
    "# Create the 'type' column\n",
    "ebola_melt['type'] = ebola_melt.str_split.str.get(0)\n",
    "\n",
    "# Create the 'country' column\n",
    "ebola_melt['country'] =  ebola_melt.str_split.str.get(1)\n",
    "\n",
    "# Print the head of ebola_melt\n",
    "print(ebola_melt.head())"
   ]
  },
  {
   "cell_type": "markdown",
   "metadata": {},
   "source": [
    "# Combing Data for Analysis\n",
    "The ability to transform and combine your data is a crucial skill in data science, because your data may not always come in one monolithic file or table for you to load. A large dataset may be broken into separate datasets to facilitate easier storage and sharing. Or if you are dealing with time series data, for example, you may have a new dataset for each day. No matter the reason, it is important to be able to combine datasets so you can either clean a single dataset, or clean each dataset separately and then combine them later so you can run your analysis on a single dataset. In this chapter, you'll learn all about combining data.\n",
    "\n",
    "## Concatenating data\n",
    "### Combining rows of data\n",
    "The dataset you'll be working with here relates to [NYC Uber data](http://data.beta.nyc/dataset/uber-trip-data-foiled-apr-sep-2014). The original dataset has all the originating Uber pickup locations by time and latitude and longitude. For didactic purposes, you'll be working with a very small portion of the actual data.\n",
    "\n",
    "Three DataFrames have been pre-loaded: `uber1`, which contains data for April 2014, `uber2`, which contains data for May 2014, and `uber3`, which contains data for June 2014. Your job in this exercise is to concatenate these DataFrames together such that the resulting DataFrame has the data for all three months.\n",
    "\n",
    "Begin by exploring the structure of these three DataFrames in the IPython Shell using methods such as `.head()`.\n",
    "\n",
    "**Instruction**\n",
    "* Concatenate `uber1`, `uber2`, and `uber3` together using `pd.concat()`. You'll have to pass the DataFrames in as a list.\n",
    "* Print the shape and then the head of the concatenated DataFrame, `row_concat`."
   ]
  },
  {
   "cell_type": "code",
   "execution_count": 14,
   "metadata": {},
   "outputs": [
    {
     "name": "stdout",
     "output_type": "stream",
     "text": [
      "(297, 4)\n",
      "       Date/Time      Lat      Lon    Base\n",
      "0  4/1/2014 0:11  40.7690 -73.9549  B02512\n",
      "1  4/1/2014 0:17  40.7267 -74.0345  B02512\n",
      "2  4/1/2014 0:21  40.7316 -73.9873  B02512\n",
      "3  4/1/2014 0:28  40.7588 -73.9776  B02512\n",
      "4  4/1/2014 0:33  40.7594 -73.9722  B02512\n"
     ]
    }
   ],
   "source": [
    "uber1 = pd.read_csv(\"practice_data/c7/df7-3-uber1.csv\")\n",
    "uber2 = pd.read_csv(\"practice_data/c7/df7-3-uber2.csv\")\n",
    "uber3 = pd.read_csv(\"practice_data/c7/df7-3-uber3.csv\")\n",
    "\n",
    "# Concatenate uber1, uber2, and uber3: row_concat\n",
    "row_concat = pd.concat([uber1, uber2, uber3])\n",
    "\n",
    "# Print the shape of row_concat\n",
    "print(row_concat.shape)\n",
    "\n",
    "# Print the head of row_concat\n",
    "print(row_concat.head())\n"
   ]
  },
  {
   "cell_type": "markdown",
   "metadata": {},
   "source": [
    "### Combining columns of data\n",
    "Think of column-wise concatenation of data as stitching data together from the sides instead of the top and bottom. To perform this action, you use the same `pd.concat()` function, but this time with the keyword argument `axis=1`. The default, `axis=0`, is for a row-wise concatenation.\n",
    "\n",
    "You'll return to the `Ebola` dataset you worked with briefly in the last chapter. It has been pre-loaded into a DataFrame called `ebola_melt`. In this DataFrame, the status and country of a patient is contained in a single column. This column has been parsed into a new DataFrame, `status_country`, where there are separate columns for status and country.\n",
    "\n",
    "Explore the `ebola_melt` and `status_country` DataFrames in the IPython Shell. Your job is to concatenate them column-wise in order to obtain a final, clean DataFrame.\n",
    "\n",
    "**Instructions**\n",
    "* Concatenate `ebola_melt` and `status_country` column-wise into a single DataFrame called `ebola_tidy`. Be sure to specify `axis=1` and to pass the two DataFrames in as a list.\n",
    "* Print the shape and then the head of the concatenated DataFrame, `ebola_tidy`."
   ]
  },
  {
   "cell_type": "code",
   "execution_count": 15,
   "metadata": {},
   "outputs": [
    {
     "name": "stdout",
     "output_type": "stream",
     "text": [
      "(1952, 6)\n",
      "         Date  Day  type_country  counts status country\n",
      "0    1/5/2015  289  Cases_Guinea  2776.0  Cases  Guinea\n",
      "1    1/4/2015  288  Cases_Guinea  2775.0  Cases  Guinea\n",
      "2    1/3/2015  287  Cases_Guinea  2769.0  Cases  Guinea\n",
      "3    1/2/2015  286  Cases_Guinea     NaN  Cases  Guinea\n",
      "4  12/31/2014  284  Cases_Guinea  2730.0  Cases  Guinea\n"
     ]
    }
   ],
   "source": [
    "ebola = pd.read_csv(\"practice_data/c7/df7-2_df5.csv\")\n",
    "ebola_melt = pd.melt(ebola, id_vars=['Date', 'Day'], var_name='type_country', value_name='counts')\n",
    "# ebola_melt.head()\n",
    "status_country = pd.read_csv(\"practice_data/c7/df7-3-status_country.csv\")\n",
    "\n",
    "# Concatenate ebola_melt and status_country column-wise: ebola_tidy\n",
    "ebola_tidy = pd.concat([ebola_melt, status_country], axis = 1)\n",
    "\n",
    "# Print the shape of ebola_tidy\n",
    "print(ebola_tidy.shape)\n",
    "\n",
    "# Print the head of ebola_tidy\n",
    "print(ebola_tidy.head())"
   ]
  },
  {
   "cell_type": "markdown",
   "metadata": {},
   "source": [
    "## Finding and concatenating data\n",
    "### Finding files that match a pattern\n",
    "You're now going to practice using the `glob` module to find all csv files in the workspace. In the next exercise, you'll programmatically load them into DataFrames.\n",
    "\n",
    "As Dan showed you in the video, the `glob` module has a function called `glob` that takes a pattern and returns a list of the files in the working directory that match that pattern.\n",
    "\n",
    "For example, if you know the pattern is `part_` `single digit number .csv`, you can write the pattern as `'part_?.csv'` (which would match `part_1.csv`, `part_2.csv`, `part_3.csv`, etc.)\n",
    "\n",
    "Similarly, you can find all `.csv` files with `'*.csv'`, or all parts with `'part_*'`. The `?` wildcard represents any 1 character, and the `*` wildcard represents any number of characters.\n",
    "\n",
    "**Instructions**\n",
    "* Import the `glob` module along with `pandas` (as its usual alias `pd`).\n",
    "* Write a pattern to match all `.csv` files starting with `df7-3`.\n",
    "* Save all files that match the pattern using the `glob()` function within the `glob` module. That is, by using `glob.glob()`.\n",
    "* Print the list of file names. This has been done for you.\n",
    "* Read the second file in `csv_files` (i.e., index 1) into a DataFrame called `csv2`."
   ]
  },
  {
   "cell_type": "code",
   "execution_count": 16,
   "metadata": {},
   "outputs": [
    {
     "name": "stdout",
     "output_type": "stream",
     "text": [
      "['practice_data/c7\\\\df7-3-site.csv', 'practice_data/c7\\\\df7-3-status_country.csv', 'practice_data/c7\\\\df7-3-survey.csv', 'practice_data/c7\\\\df7-3-uber1.csv', 'practice_data/c7\\\\df7-3-uber2.csv', 'practice_data/c7\\\\df7-3-uber3.csv', 'practice_data/c7\\\\df7-3-uber_raw_201404.csv', 'practice_data/c7\\\\df7-3-uber_raw_201405.csv', 'practice_data/c7\\\\df7-3-uber_raw_201406.csv', 'practice_data/c7\\\\df7-3-visited.csv', 'practice_data/c7\\\\df7-3-visited2.csv']\n",
      "  status country\n",
      "0  Cases  Guinea\n",
      "1  Cases  Guinea\n",
      "2  Cases  Guinea\n",
      "3  Cases  Guinea\n",
      "4  Cases  Guinea\n"
     ]
    }
   ],
   "source": [
    "# Import necessary modules\n",
    "import glob\n",
    "import pandas as pd\n",
    "\n",
    "# Write the pattern: pattern\n",
    "pattern = 'practice_data/c7/df7-3*.csv'\n",
    "\n",
    "# Save all file matches: csv_files\n",
    "csv_files = glob.glob(pattern)\n",
    "\n",
    "# Print the file names\n",
    "print(csv_files)\n",
    "\n",
    "# Load the second file into a DataFrame: csv2\n",
    "csv2 = pd.read_csv(csv_files[1])\n",
    "\n",
    "# Print the head of csv2\n",
    "print(csv2.head())"
   ]
  },
  {
   "cell_type": "markdown",
   "metadata": {},
   "source": [
    "### Iterating and concatenating all matches\n",
    "Now that you have a list of filenames to load, you can load all the files into a list of DataFrames that can then be concatenated.\n",
    "\n",
    "You'll start with an empty list called `frames`. Your job is to use a `for` loop to iterate through each of the filenames, read each filename into a DataFrame, and then append it to the `frames` list.\n",
    "\n",
    "You can then concatenate this list of DataFrames using `pd.concat()`. Go for it!\n",
    "\n",
    "**Instructions**\n",
    "* Write a `for` loop to iterate though `csv_files`:\n",
    "* In each iteration of the loop, read csv into a DataFrame called `df`.\n",
    "* After creating `df`, append it to the list frames using the `.append()` method.\n",
    "* Concatenate frames into a single DataFrame called `uber`."
   ]
  },
  {
   "cell_type": "code",
   "execution_count": 17,
   "metadata": {},
   "outputs": [
    {
     "name": "stdout",
     "output_type": "stream",
     "text": [
      "(297, 4)\n",
      "       Date/Time      Lat      Lon    Base\n",
      "0  4/1/2014 0:11  40.7690 -73.9549  B02512\n",
      "1  4/1/2014 0:17  40.7267 -74.0345  B02512\n",
      "2  4/1/2014 0:21  40.7316 -73.9873  B02512\n",
      "3  4/1/2014 0:28  40.7588 -73.9776  B02512\n",
      "4  4/1/2014 0:33  40.7594 -73.9722  B02512\n"
     ]
    }
   ],
   "source": [
    "# Create an empty list: frames\n",
    "frames = []\n",
    "pattern = 'practice_data/c7/df7-3-uber_raw*.csv'\n",
    "csv_files = glob.glob(pattern)\n",
    "\n",
    "#  Iterate over csv_files\n",
    "for csv in csv_files:\n",
    "\n",
    "    #  Read csv into a DataFrame: df\n",
    "    df = pd.read_csv(csv)\n",
    "    \n",
    "    # Append df to frames\n",
    "    frames.append(df)\n",
    "\n",
    "# Concatenate frames into a single DataFrame: uber\n",
    "uber = pd.concat(frames)\n",
    "\n",
    "# Print the shape of uber\n",
    "print(uber.shape)\n",
    "\n",
    "# Print the head of uber\n",
    "print(uber.head())"
   ]
  },
  {
   "cell_type": "markdown",
   "metadata": {},
   "source": [
    "## Merge data\n",
    "### 1-to-1 data merge\n",
    "Merging data allows you to combine disparate datasets into a single dataset to do more complex analysis.\n",
    "\n",
    "Here, you'll be using survey data that contains readings that William Dyer, Frank Pabodie, and Valentina Roerich took in the late 1920 and 1930 while they were on an expedition towards Antarctica. The dataset was taken from a sqlite database from the [Software Carpentry SQL lesson](http://swcarpentry.github.io/sql-novice-survey/).\n",
    "\n",
    "Two DataFrames have been pre-loaded: `site` and `visited`. Explore them in the IPython Shell and take note of their structure and column names. Your task is to perform a 1-to-1 merge of these two DataFrames using the `'name'` column of `site` and the `'site'` column of `visited`.\n",
    "\n",
    "**Instructions**\n",
    "* Merge the site and visited DataFrames on the `'name'` column of site and `'site'` column of visited.\n",
    "* Print the merged DataFrame `o2o`."
   ]
  },
  {
   "cell_type": "code",
   "execution_count": 18,
   "metadata": {
    "scrolled": true
   },
   "outputs": [
    {
     "name": "stdout",
     "output_type": "stream",
     "text": [
      "    name    lat    long  ident   site      dated\n",
      "0   DR-1 -49.85 -128.57    619   DR-1   2/8/1927\n",
      "1   DR-3 -47.15 -126.72    734   DR-3   1/7/1939\n",
      "2  MSK-4 -48.87 -123.40    837  MSK-4  1/14/1932\n"
     ]
    }
   ],
   "source": [
    "site = pd.read_csv(\"practice_data/c7/df7-3-site.csv\")\n",
    "visited = pd.read_csv(\"practice_data/c7/df7-3-visited.csv\")\n",
    "\n",
    "# Merge the DataFrames: o2o\n",
    "o2o = pd.merge(left=site, right=visited, left_on='name', right_on='site')\n",
    "\n",
    "# Print o2o\n",
    "print(o2o)"
   ]
  },
  {
   "cell_type": "markdown",
   "metadata": {},
   "source": [
    "### Many-to-1 data merge\n",
    "In a many-to-one (or one-to-many) merge, one of the values will be duplicated and recycled in the output. That is, one of the keys in the merge is not unique.\n",
    "\n",
    "Here, the two DataFrames `site` and `visited` have been pre-loaded once again. Note that this time, visited has multiple entries for the site column. Confirm this by exploring it in the IPython Shell.\n",
    "\n",
    "The `.merge()` method call is the same as the 1-to-1 merge from the previous exercise, but the data and output will be different.\n",
    "\n",
    "**Instructions**\n",
    "* Merge the `site` and `visited` DataFrames on the `'name'` column of site and `'site'` column of visited, exactly as you did in the previous exercise.\n",
    "* Print the merged DataFrame and then hit `'Submit Answer'` to see the different output produced by this merge!"
   ]
  },
  {
   "cell_type": "code",
   "execution_count": 19,
   "metadata": {},
   "outputs": [
    {
     "name": "stdout",
     "output_type": "stream",
     "text": [
      "    name    lat    long  ident   site      dated\n",
      "0   DR-1 -49.85 -128.57    619   DR-1   2/8/1927\n",
      "1   DR-1 -49.85 -128.57    622   DR-1  2/10/1927\n",
      "2   DR-1 -49.85 -128.57    844   DR-1  3/22/1932\n",
      "3   DR-3 -47.15 -126.72    734   DR-3   1/7/1939\n",
      "4   DR-3 -47.15 -126.72    735   DR-3  1/12/1930\n",
      "5   DR-3 -47.15 -126.72    751   DR-3  2/26/1930\n",
      "6   DR-3 -47.15 -126.72    752   DR-3        NaN\n",
      "7  MSK-4 -48.87 -123.40    837  MSK-4  1/14/1932\n"
     ]
    }
   ],
   "source": [
    "visited2 = pd.read_csv(\"practice_data/c7/df7-3-visited2.csv\")\n",
    "\n",
    "# Merge the DataFrames: m2o\n",
    "m2o = pd.merge(left = site, right = visited2, left_on = 'name', right_on = 'site')\n",
    "\n",
    "# Print m2o\n",
    "print(m2o)"
   ]
  },
  {
   "cell_type": "markdown",
   "metadata": {},
   "source": [
    "### Many-to-many data merge\n",
    "The final merging scenario occurs when both DataFrames do not have unique keys for a merge. What happens here is that for each duplicated key, every pairwise combination will be created.\n",
    "\n",
    "Two example DataFrames that share common key values have been pre-loaded: `df1` and `df2`. Another DataFrame `df3`, which is the result of `df1` merged with `df2`, has been pre-loaded. All three DataFrames have been printed - look at the output and notice how pairwise combinations have been created. This example is to help you develop your intuition for many-to-many merges.\n",
    "\n",
    "Here, you'll work with the `site` and `visited` DataFrames from before, and a new `survey` DataFrame. Your task is to merge `site` and `visited` as you did in the earlier exercises. You will then merge this merged DataFrame with `survey`.\n",
    "\n",
    "Begin by exploring the `site`, `visited`, and `survey` DataFrames in the IPython Shell.\n",
    "\n",
    "**Instructions**\n",
    "* Recall the exercise result `m2o` you did previously. \n",
    "* Merge the `m2o` and `survey` DataFrames on the `'ident'` column of `m2o` and `'taken'` column of `survey` and assign the result to `m2m`.\n",
    "* Print the first 20 lines of the merged DataFrame!"
   ]
  },
  {
   "cell_type": "code",
   "execution_count": 20,
   "metadata": {},
   "outputs": [
    {
     "name": "stdout",
     "output_type": "stream",
     "text": [
      "   name    lat    long  ident  site      dated\n",
      "0  DR-1 -49.85 -128.57    619  DR-1   2/8/1927\n",
      "1  DR-1 -49.85 -128.57    622  DR-1  2/10/1927\n",
      "2  DR-1 -49.85 -128.57    844  DR-1  3/22/1932\n",
      "3  DR-3 -47.15 -126.72    734  DR-3   1/7/1939\n",
      "4  DR-3 -47.15 -126.72    735  DR-3  1/12/1930 \n",
      "\n",
      "   taken person quant  reading\n",
      "0    619   dyer   rad     9.82\n",
      "1    619   dyer   sal     0.13\n",
      "2    622   dyer   rad     7.80\n",
      "3    622   dyer   sal     0.09\n",
      "4    734     pb   rad     8.41 \n",
      "\n",
      "     name    lat    long  ident   site      dated  taken person quant  reading\n",
      "0    DR-1 -49.85 -128.57    619   DR-1   2/8/1927    619   dyer   rad     9.82\n",
      "1    DR-1 -49.85 -128.57    619   DR-1   2/8/1927    619   dyer   sal     0.13\n",
      "2    DR-1 -49.85 -128.57    622   DR-1  2/10/1927    622   dyer   rad     7.80\n",
      "3    DR-1 -49.85 -128.57    622   DR-1  2/10/1927    622   dyer   sal     0.09\n",
      "4    DR-1 -49.85 -128.57    844   DR-1  3/22/1932    844    roe   rad    11.25\n",
      "5    DR-3 -47.15 -126.72    734   DR-3   1/7/1939    734     pb   rad     8.41\n",
      "6    DR-3 -47.15 -126.72    734   DR-3   1/7/1939    734   lake   sal     0.05\n",
      "7    DR-3 -47.15 -126.72    734   DR-3   1/7/1939    734     pb  temp   -21.50\n",
      "8    DR-3 -47.15 -126.72    735   DR-3  1/12/1930    735     pb   rad     7.22\n",
      "9    DR-3 -47.15 -126.72    735   DR-3  1/12/1930    735    NaN   sal     0.06\n",
      "10   DR-3 -47.15 -126.72    735   DR-3  1/12/1930    735    NaN  temp   -26.00\n",
      "11   DR-3 -47.15 -126.72    751   DR-3  2/26/1930    751     pb   rad     4.35\n",
      "12   DR-3 -47.15 -126.72    751   DR-3  2/26/1930    751     pb  temp   -18.50\n",
      "13   DR-3 -47.15 -126.72    751   DR-3  2/26/1930    751   lake   sal     0.10\n",
      "14   DR-3 -47.15 -126.72    752   DR-3        NaN    752   lake   rad     2.19\n",
      "15   DR-3 -47.15 -126.72    752   DR-3        NaN    752   lake   sal     0.09\n",
      "16   DR-3 -47.15 -126.72    752   DR-3        NaN    752   lake  temp   -16.00\n",
      "17   DR-3 -47.15 -126.72    752   DR-3        NaN    752    roe   sal    41.60\n",
      "18  MSK-4 -48.87 -123.40    837  MSK-4  1/14/1932    837   lake   rad     1.46\n",
      "19  MSK-4 -48.87 -123.40    837  MSK-4  1/14/1932    837   lake   sal     0.21\n"
     ]
    }
   ],
   "source": [
    "survey = pd.read_csv(\"practice_data/c7/df7-3-survey.csv\")\n",
    "\n",
    "print(m2o.head(),\"\\n\")\n",
    "print(survey.head(),\"\\n\")\n",
    "# Merge m2m and survey: m2m\n",
    "m2m = pd.merge(left=m2o, right=survey, left_on='ident', right_on='taken')\n",
    "\n",
    "# Print the first 20 lines of m2m\n",
    "print(m2m.head(20))"
   ]
  },
  {
   "cell_type": "markdown",
   "metadata": {},
   "source": [
    "# Cleaning Data for Analysis\n",
    "Here, you'll dive into some of the grittier aspects of data cleaning. You'll learn about string manipulation and pattern matching to deal with unstructured data, and then explore techniques to deal with missing or duplicate data. You'll also learn the valuable skill of programmatically checking your data for consistency, which will give you confidence that your code is running correctly and that the results of your analysis are reliable!\n",
    "\n",
    "## Data types\n",
    "### Converting data types\n",
    "In this exercise, you'll see how ensuring all categorical variables in a DataFrame are of type category reduces memory usage.\n",
    "\n",
    "The [tips dataset](https://github.com/mwaskom/seaborn-data/blob/master/tips.csv) has been loaded into a DataFrame called `tips`. This data contains information about how much a customer tipped, whether the customer was male or female, a smoker or not, etc.\n",
    "\n",
    "Look at the output of `tips.info()` in the IPython Shell. You'll note that two columns that should be categorical - `sex` and `smoker` - are instead of type `object`, which is pandas' way of storing arbitrary strings. Your job is to convert these two columns to type `category` and note the reduced memory usage.\n",
    "\n",
    "**Instructions**\n",
    "* Convert the sex column of the `tips` DataFrame to type `'category'` using the `.astype()` method.\n",
    "* Convert the `smoker` column of the `tips` DataFrame.\n",
    "* Print the memory usage of tips after converting the data types of the columns. Use the `.info()` method to do this."
   ]
  },
  {
   "cell_type": "code",
   "execution_count": 21,
   "metadata": {},
   "outputs": [
    {
     "name": "stdout",
     "output_type": "stream",
     "text": [
      "<class 'pandas.core.frame.DataFrame'>\n",
      "RangeIndex: 244 entries, 0 to 243\n",
      "Data columns (total 7 columns):\n",
      "total_bill    244 non-null float64\n",
      "tip           244 non-null float64\n",
      "sex           244 non-null object\n",
      "smoker        244 non-null object\n",
      "day           244 non-null object\n",
      "time          244 non-null object\n",
      "size          244 non-null int64\n",
      "dtypes: float64(2), int64(1), object(4)\n",
      "memory usage: 13.4+ KB\n",
      "None \n",
      "\n",
      "<class 'pandas.core.frame.DataFrame'>\n",
      "RangeIndex: 244 entries, 0 to 243\n",
      "Data columns (total 7 columns):\n",
      "total_bill    244 non-null float64\n",
      "tip           244 non-null float64\n",
      "sex           244 non-null category\n",
      "smoker        244 non-null category\n",
      "day           244 non-null object\n",
      "time          244 non-null object\n",
      "size          244 non-null int64\n",
      "dtypes: category(2), float64(2), int64(1), object(2)\n",
      "memory usage: 10.3+ KB\n",
      "None\n"
     ]
    }
   ],
   "source": [
    "tips = pd.read_csv(\"practice_data/c7/df7-4-tips.csv\")\n",
    "print(tips.info(), \"\\n\")\n",
    "\n",
    "# Convert the sex column to type 'category'\n",
    "tips.sex = tips.sex.astype('category')\n",
    "\n",
    "# Convert the smoker column to type 'category'\n",
    "tips.smoker = tips.smoker.astype('category')\n",
    "\n",
    "# Print the info of tips\n",
    "print(tips.info())"
   ]
  },
  {
   "cell_type": "markdown",
   "metadata": {},
   "source": [
    "### Working with numeric data\n",
    "If you expect the data type of a column to be numeric (`int` or `float`), but instead it is of type object, this typically means that there is a non numeric value in the column, which also signifies bad data.\n",
    "\n",
    "You can use the `pd.to_numeric()` function to convert a column into a numeric data type. If the function raises an error, you can be sure that there is a bad value within the column. You can either use the techniques you learned in Chapter 1 to do some exploratory data analysis and find the bad value, or you can choose to ignore or `coerce` the value into a missing value, `NaN`.\n",
    "\n",
    "A modified version of the `tips` dataset has been pre-loaded into a DataFrame called tips. For instructional purposes, it has been pre-processed to introduce some 'bad' data for you to clean. Use the `.info()` method to explore this. You'll note that the `total_bill` and `tip` columns, which should be numeric, are instead of type `object`. Your job is to fix this.\n",
    "\n",
    "**Instructions**\n",
    "* Use `pd.to_numeric()` to convert the `'total_bill'` column of `tips` to a numeric data type. Coerce the errors to `NaN` by specifying the keyword argument `errors='coerce'`.\n",
    "* Convert the `'tip'` column of `'tips'` to a numeric data type exactly as you did for the `'total_bill'` column.\n",
    "* Print the info of `tips` to confirm that the data types of `'total_bill'` and `'tips'` are numeric."
   ]
  },
  {
   "cell_type": "code",
   "execution_count": 22,
   "metadata": {},
   "outputs": [
    {
     "name": "stdout",
     "output_type": "stream",
     "text": [
      "<class 'pandas.core.frame.DataFrame'>\n",
      "RangeIndex: 244 entries, 0 to 243\n",
      "Data columns (total 7 columns):\n",
      "total_bill    244 non-null float64\n",
      "tip           244 non-null float64\n",
      "sex           244 non-null category\n",
      "smoker        244 non-null category\n",
      "day           244 non-null object\n",
      "time          244 non-null object\n",
      "size          244 non-null int64\n",
      "dtypes: category(2), float64(2), int64(1), object(2)\n",
      "memory usage: 10.3+ KB\n",
      "None\n"
     ]
    }
   ],
   "source": [
    "# Convert 'total_bill' to a numeric dtype\n",
    "tips['total_bill'] = pd.to_numeric(tips['total_bill'], errors='coerce')\n",
    "\n",
    "# Convert 'tip' to a numeric dtype\n",
    "tips['tip'] = pd.to_numeric(tips['tip'], errors = 'coerce')\n",
    "\n",
    "# Print the info of tips\n",
    "print(tips.info())"
   ]
  },
  {
   "cell_type": "markdown",
   "metadata": {},
   "source": [
    "## Using regular expressions to clean strings\n",
    "### String parsing with regular expressions\n",
    "In the video, Dan introduced you to the basics of regular expressions, which are powerful ways of defining patterns to match strings. This exercise will get you started with writing them.\n",
    "\n",
    "When working with data, it is sometimes necessary to write a regular expression to look for properly entered values. Phone numbers in a dataset is a common field that needs to be checked for validity. Your job in this exercise is to define a regular expression to match US phone numbers that fit the pattern of `xxx-xxx-xxxx`.\n",
    "\n",
    "The regular expression module in python is re. When performing pattern matching on data, since the pattern will be used for a match across multiple rows, it's better to compile the pattern first using `re.compile()`, and then use the compiled pattern to match values.\n",
    "\n",
    "**Instructions**\n",
    "* Import `re`.\n",
    "* Compile a pattern that matches a phone number of the format `xxx-xxx-xxxx`.\n",
    "    * Use `\\d{x}` to match `x` digits. Here you'll need to use it three times: twice to match 3 digits, and once to match 4 digits.\n",
    "    * Place the regular expression inside `re.compile()`.\n",
    "* Using the `.match()` method on `prog`, check whether the pattern matches the string `'123-456-7890'`.\n",
    "* Check whether the pattern matches the string `'1123-456-7890'`."
   ]
  },
  {
   "cell_type": "code",
   "execution_count": 23,
   "metadata": {},
   "outputs": [
    {
     "name": "stdout",
     "output_type": "stream",
     "text": [
      "True\n",
      "False\n"
     ]
    }
   ],
   "source": [
    "# Import the regular expression module\n",
    "import re\n",
    "\n",
    "# Compile the pattern: prog\n",
    "prog = re.compile('\\d{3}-\\d{3}-\\d{4}')\n",
    "\n",
    "# See if the pattern matches\n",
    "result = prog.match('123-456-7890')\n",
    "print(bool(result))\n",
    "\n",
    "# See if the pattern matches\n",
    "result = prog.match('1123-456-7890')\n",
    "print(bool(result))"
   ]
  },
  {
   "cell_type": "markdown",
   "metadata": {},
   "source": [
    "### Extracting numerical values from strings\n",
    "Extracting numbers from strings is a common task, particularly when working with unstructured data or log files.\n",
    "\n",
    "Say you have the following string: `'the recipe calls for 6 strawberries and 2 bananas'`.\n",
    "\n",
    "It would be useful to extract the `6` and the `2` from this string to be saved for later use when comparing strawberry to banana ratios.\n",
    "\n",
    "When using a regular expression to extract multiple numbers (or multiple pattern matches, to be exact), you can use the `re.findall()` function. Dan did not discuss this in the video, but it is straightforward to use: You pass in a pattern and a string to `re.findall()`, and it will return a list of the matches.\n",
    "\n",
    "**Instructions**\n",
    "* Import `re`.\n",
    "* Write a pattern that will find all the numbers in the following string: `'the recipe calls for 10 strawberries and 1 banana'`. To do this:\n",
    "    * Use the `re.findall()` function and pass it two arguments: the pattern, followed by the string.\n",
    "    * `\\d` is the pattern required to find digits. This should be followed with a `+` so that the previous element is matched one or more times. This ensures that `10` is viewed as one number and not as `1` and `0`.\n",
    "* Print the matches to confirm that your regular expression found the values `10` and `1`."
   ]
  },
  {
   "cell_type": "code",
   "execution_count": 24,
   "metadata": {},
   "outputs": [
    {
     "name": "stdout",
     "output_type": "stream",
     "text": [
      "['10', '1']\n"
     ]
    }
   ],
   "source": [
    "# Import the regular expression module\n",
    "import re\n",
    "\n",
    "# Find the numeric values: matches\n",
    "matches = re.findall('\\d+', 'the recipe calls for 10 strawberries and 1 banana')\n",
    "\n",
    "# Print the matches\n",
    "print(matches)"
   ]
  },
  {
   "cell_type": "markdown",
   "metadata": {},
   "source": [
    "### Pattern matching\n",
    "In this exercise, you'll continue practicing your regular expression skills. For each provided string, your job is to write the appropriate pattern to match it.\n",
    "\n",
    "**Instructions**\n",
    "* Write patterns to match:\n",
    "    * A telephone number of the format `xxx-xxx-xxxx`. You already did this in a previous exercise.\n",
    "    * A string of the format: A dollar sign, an arbitrary number of digits, a decimal point, 2 digits.\n",
    "        * Use `\\$` to match the dollar sign, `\\d*` to match an arbitrary number of digits, `\\`. to match the decimal point, and `\\d{x}` to match `x` number of digits.\n",
    "    * A capital letter, followed by an arbitrary number of alphanumeric characters.\n",
    "        * Use `[A-Z]` to match any capital letter followed by `\\w*` to match an arbitrary number of alphanumeric characters."
   ]
  },
  {
   "cell_type": "code",
   "execution_count": 25,
   "metadata": {},
   "outputs": [
    {
     "name": "stdout",
     "output_type": "stream",
     "text": [
      "True\n",
      "True\n",
      "True\n"
     ]
    }
   ],
   "source": [
    "# Write the first pattern\n",
    "pattern1 = bool(re.match(pattern='\\d{3}-\\d{3}-\\d{4}', string='123-456-7890'))\n",
    "print(pattern1)\n",
    "\n",
    "# Write the second pattern\n",
    "pattern2 = bool(re.match(pattern='^\\$\\d{3}\\.\\d{2}$', string='$123.45'))\n",
    "print(pattern2)\n",
    "\n",
    "# Write the third pattern\n",
    "pattern3 = bool(re.match(pattern='[A-Z]\\w*', string='Australia'))\n",
    "print(pattern3)"
   ]
  },
  {
   "cell_type": "markdown",
   "metadata": {},
   "source": [
    "## Using functions to clean data\n",
    "### Custom functions to clean data\n",
    "You'll now practice writing functions to clean data.\n",
    "\n",
    "The tips dataset has been pre-loaded into a DataFrame called `tips`. It has a `'sex'` column that contains the values `'Male'` or `'Female'`. Your job is to write a function that will recode `'Male'` to `1`, `'Female'` to `0`, and return `np.nan` for all entries of `'sex'` that are neither `'Male'` nor `'Female'`.\n",
    "\n",
    "Recoding variables like this is a common data cleaning task. Functions provide a mechanism for you to abstract away complex bits of code as well as reuse code. This makes your code more readable and less error prone.\n",
    "\n",
    "As Dan showed you in the videos, you can use the `.apply()` method to apply a function across entire rows or columns of DataFrames. However, note that each column of a DataFrame is a `pandas` Series. Functions can also be applied across Series. Here, you will apply your function over the `'sex'` column.\n",
    "\n",
    "**Instructions**\n",
    "* Define a function named `recode_sex()` that has one parameter: `sex_value`.\n",
    "    * If `sex_value` equals `'Male'`, return `1`.\n",
    "    * Else, if sex_value equals `'Female'`, return `0`.\n",
    "    * If `sex_value` does not equal `'Male'` or `'Female'`, return `np.nan`. `NumPy` has been pre-imported for you.\n",
    "* Apply your `recode_sex()` function over `tips.sex` using the `.apply()` method to create a new column: `'sex_recode'`. Note that when passing in a function inside the `.apply()` method, you don't need to specify the parentheses after the function name."
   ]
  },
  {
   "cell_type": "code",
   "execution_count": 26,
   "metadata": {},
   "outputs": [
    {
     "name": "stdout",
     "output_type": "stream",
     "text": [
      "   total_bill   tip     sex smoker  day    time  size sex_recode\n",
      "0       16.99  1.01  Female     No  Sun  Dinner     2          0\n",
      "1       10.34  1.66    Male     No  Sun  Dinner     3          1\n",
      "2       21.01  3.50    Male     No  Sun  Dinner     3          1\n",
      "3       23.68  3.31    Male     No  Sun  Dinner     2          1\n",
      "4       24.59  3.61  Female     No  Sun  Dinner     4          0\n"
     ]
    }
   ],
   "source": [
    "# Define recode_sex()\n",
    "def recode_sex(sex_value):\n",
    "\n",
    "    # Return 1 if sex_value is 'Male'\n",
    "    if sex_value == 'Male':\n",
    "        return 1\n",
    "    \n",
    "    # Return 0 if sex_value is 'Female'    \n",
    "    elif sex_value == 'Female':\n",
    "        return 0\n",
    "    \n",
    "    # Return np.nan    \n",
    "    else:\n",
    "        return np.nan\n",
    "\n",
    "# Apply the function to the sex column\n",
    "tips['sex_recode'] = tips.sex.apply(recode_sex)\n",
    "\n",
    "# Print the first five rows of tips\n",
    "print(tips.head())"
   ]
  },
  {
   "cell_type": "markdown",
   "metadata": {},
   "source": [
    "### Lambda functions\n",
    "You'll now be introduced to a powerful Python feature that will help you clean your data more effectively: lambda functions. Instead of using the `def` syntax that you used in the previous exercise, lambda functions let you make simple, one-line functions.\n",
    "\n",
    "For example, here's a function that squares a variable used in an `.apply()` method:\n",
    "\n",
    "```\n",
    "def my_square(x):\n",
    "    return x ** 2\n",
    "\n",
    "df.apply(my_square)\n",
    "```\n",
    "The equivalent code using a lambda function is:\n",
    "```\n",
    "df.apply(lambda x: x ** 2)\n",
    "```\n",
    "The lambda function takes one parameter - the variable `x`. The function itself just squares `x` and returns the result, which is whatever the one line of code evaluates to. In this way, lambda functions can make your code concise and Pythonic.\n",
    "\n",
    "The tips dataset has been pre-loaded into a DataFrame called tips. Your job is to clean its `'total_dollar'` column by removing the dollar sign. You'll do this using two different methods: With the `.replace()` method, and with regular expressions. The regular expression module `re` has been pre-imported.\n",
    "\n",
    "**Instructions**\n",
    "* Use the `.replace()` method inside a lambda function to remove the dollar sign from the `'total_dollar'` column of tips.\n",
    "    * You need to specify two arguments to the `.replace()` method: The string to be replaced (`'$'`), and the string to replace it by (`''`).\n",
    "    * Apply the lambda function over the `'total_dollar'` column of `tips`.\n",
    "* Use a regular expression to remove the dollar sign from the 'total_dollar' column of tips.\n",
    "    * The pattern has been provided for you: It is the first argument of the `re.findall()` function.\n",
    "    * Complete the rest of the lambda function and apply it over the `'total_dollar'` column of `tips`. Notice that because `re.findall()` returns a list, you have to slice it in order to access the actual value."
   ]
  },
  {
   "cell_type": "code",
   "execution_count": 27,
   "metadata": {},
   "outputs": [
    {
     "name": "stdout",
     "output_type": "stream",
     "text": [
      "   total_bill   tip     sex smoker  day    time  size total_dollar  \\\n",
      "0       16.99  1.01  Female     No  Sun  Dinner     2      $16.99    \n",
      "1       10.34  1.66    Male     No  Sun  Dinner     3      $10.34    \n",
      "2       21.01  3.50    Male     No  Sun  Dinner     3      $21.01    \n",
      "3       23.68  3.31    Male     No  Sun  Dinner     2      $23.68    \n",
      "4       24.59  3.61  Female     No  Sun  Dinner     4      $24.59    \n",
      "\n",
      "  total_dollar_replace total_dollar_re  \n",
      "0               16.99            16.99  \n",
      "1               10.34            10.34  \n",
      "2               21.01            21.01  \n",
      "3               23.68            23.68  \n",
      "4               24.59            24.59  \n"
     ]
    }
   ],
   "source": [
    "tips = pd.read_csv(\"practice_data/c7/df7-4-tips2.csv\")\n",
    "\n",
    "# Write the lambda function using replace\n",
    "tips['total_dollar_replace'] = tips.total_dollar.apply(lambda x: x.replace('$', ''))\n",
    "\n",
    "# Write the lambda function using regular expressions\n",
    "tips['total_dollar_re'] = tips.total_dollar.apply(lambda x: re.findall('\\d+\\.\\d+', x)[0])\n",
    "\n",
    "# Print the head of tips\n",
    "print(tips.head())"
   ]
  },
  {
   "cell_type": "markdown",
   "metadata": {},
   "source": [
    "## Duplicate and missing data\n",
    "### Dropping duplicate data\n",
    "Duplicate data causes a variety of problems. From the point of view of performance, they use up unnecessary amounts of memory and cause unneeded calculations to be performed when processing data. In addition, they can also bias any analysis results.\n",
    "\n",
    "A dataset consisting of the performance of songs on the Billboard charts has been pre-loaded into a DataFrame called `billboard`. Check out its columns in the IPython Shell. Your job in this exercise is to subset this DataFrame and then drop all duplicate rows.\n",
    "\n",
    "**Instructions**\n",
    "* Create a new DataFrame called `tracks` that contains the following columns from `billboard`: `'year'`, `'artist'`, `'track'`, and `'time'`.\n",
    "* Print the `info` of `tracks`. This has been done for you.\n",
    "* Drop duplicate rows from `tracks` using the `.drop_duplicates()` method. Save the result to `tracks_no_duplicates`.\n",
    "* Print the `info` of `tracks_no_duplicates`. "
   ]
  },
  {
   "cell_type": "code",
   "execution_count": 28,
   "metadata": {},
   "outputs": [
    {
     "name": "stdout",
     "output_type": "stream",
     "text": [
      "<class 'pandas.core.frame.DataFrame'>\n",
      "RangeIndex: 24092 entries, 0 to 24091\n",
      "Data columns (total 4 columns):\n",
      "year      24092 non-null int64\n",
      "artist    24092 non-null object\n",
      "track     24092 non-null object\n",
      "time      24092 non-null object\n",
      "dtypes: int64(1), object(3)\n",
      "memory usage: 753.0+ KB\n",
      "None\n",
      "<class 'pandas.core.frame.DataFrame'>\n",
      "Int64Index: 317 entries, 0 to 316\n",
      "Data columns (total 4 columns):\n",
      "year      317 non-null int64\n",
      "artist    317 non-null object\n",
      "track     317 non-null object\n",
      "time      317 non-null object\n",
      "dtypes: int64(1), object(3)\n",
      "memory usage: 12.4+ KB\n",
      "None\n"
     ]
    }
   ],
   "source": [
    "billboard = pd.read_table(\"practice_data/c7/df7-4-billboard.txt\")\n",
    "billboard.head()\n",
    "\n",
    "# Create the new DataFrame: tracks\n",
    "tracks = billboard[['year', 'artist', 'track', 'time']]\n",
    "\n",
    "# Print info of tracks\n",
    "print(tracks.info())\n",
    "\n",
    "# Drop the duplicates: tracks_no_duplicates\n",
    "tracks_no_duplicates = tracks.drop_duplicates()\n",
    "\n",
    "# Print info of tracks\n",
    "print(tracks_no_duplicates.info())"
   ]
  },
  {
   "cell_type": "markdown",
   "metadata": {},
   "source": [
    "### Filling missing data\n",
    "Here, you'll return to the `airquality` dataset from Chapter 2. It has been pre-loaded into the DataFrame `airquality`, and it has missing values for you to practice filling in. Explore `airquality` in the IPython Shell to checkout which columns have missing values.\n",
    "\n",
    "It's rare to have a (real-world) dataset without any missing values, and it's important to deal with them because certain calculations cannot handle missing values while some calculations will, by default, skip over any missing values.\n",
    "\n",
    "Also, understanding how much missing data you have, and thinking about where it comes from is crucial to making unbiased interpretations of data.\n",
    "\n",
    "**Instructions**\n",
    "* Calculate the mean of the `Ozone` column of `airquality` using the `.mean()` method on airquality.Ozone.\n",
    "* Use the `.fillna()` method to replace all the missing values in the `Ozone` column of `airquality` with the mean, `oz_mean`."
   ]
  },
  {
   "cell_type": "code",
   "execution_count": 29,
   "metadata": {},
   "outputs": [
    {
     "name": "stdout",
     "output_type": "stream",
     "text": [
      "   Ozone  Solar.R  Wind  Temp  Month  Day\n",
      "0   41.0    190.0   7.4    67      5    1\n",
      "1   36.0    118.0   8.0    72      5    2\n",
      "2   12.0    149.0  12.6    74      5    3\n",
      "3   18.0    313.0  11.5    62      5    4\n",
      "4    NaN      NaN  14.3    56      5    5 \n",
      "\n",
      "<class 'pandas.core.frame.DataFrame'>\n",
      "RangeIndex: 153 entries, 0 to 152\n",
      "Data columns (total 6 columns):\n",
      "Ozone      153 non-null float64\n",
      "Solar.R    146 non-null float64\n",
      "Wind       153 non-null float64\n",
      "Temp       153 non-null int64\n",
      "Month      153 non-null int64\n",
      "Day        153 non-null int64\n",
      "dtypes: float64(3), int64(3)\n",
      "memory usage: 7.2 KB\n",
      "None\n"
     ]
    }
   ],
   "source": [
    "print(airquality.head(), \"\\n\")\n",
    "\n",
    "# Calculate the mean of the Ozone column: oz_mean\n",
    "oz_mean = airquality.Ozone.mean()\n",
    "\n",
    "# Replace all the missing values in the Ozone column with the mean\n",
    "airquality['Ozone'] = airquality.Ozone.fillna(oz_mean)\n",
    "\n",
    "# Print the info of airquality\n",
    "print(airquality.info())"
   ]
  },
  {
   "cell_type": "markdown",
   "metadata": {},
   "source": [
    "## Testing your data with asserts\n",
    "Here, you'll practice writing `assert` statements using the Ebola dataset from previous chapters to programmatically check for missing values and to confirm that all values are positive. The dataset has been pre-loaded into a DataFrame called `ebola`.\n",
    "\n",
    "In the video, you saw Dan use the `.all()` method together with the `.notnull()` DataFrame method to check for missing values in a column. The `.all()` method returns `True` if all values are `True`. When used on a DataFrame, it returns a Series of Booleans - one for each column in the DataFrame. So if you are using it on a DataFrame, like in this exercise, you need to chain another `.all()` method so that you return only one `True` or `False` value. When using these within an assert statement, nothing will be returned if the assert statement is true: This is how you can confirm that the data you are checking are valid.\n",
    "\n",
    "Note: You can use `pd.notnull(df)` as an alternative to `df.notnull()`.\n",
    "\n",
    "**Instructions**\n",
    "* Write an assert statement to confirm that there are no missing values in `ebola`.\n",
    "* Use the `pd.notnull()` function on ebola (or the `.notnull()` method of `ebola`) and chain two `.all()` methods (that is, `.all().all()`). The first `.all()` method will return a `True` or `False` for each column, while the second `.all()` method will return a single `True` or `False`.\n",
    "* Write an assert statement to confirm that all values in `ebola `are greater than or equal to `0`.\n",
    "* Chain two `all()` methods to the Boolean condition (`ebola >= 0`)."
   ]
  },
  {
   "cell_type": "code",
   "execution_count": 30,
   "metadata": {},
   "outputs": [
    {
     "name": "stdout",
     "output_type": "stream",
     "text": [
      "         Date  Day  Cases_Guinea  Cases_Liberia  Cases_SierraLeone  \\\n",
      "0    1/5/2015  289        2776.0            NaN            10030.0   \n",
      "1    1/4/2015  288        2775.0            NaN             9780.0   \n",
      "2    1/3/2015  287        2769.0         8166.0             9722.0   \n",
      "3    1/2/2015  286           NaN         8157.0                NaN   \n",
      "4  12/31/2014  284        2730.0         8115.0             9633.0   \n",
      "\n",
      "   Cases_Nigeria  Cases_Senegal  Cases_UnitedStates  Cases_Spain  Cases_Mali  \\\n",
      "0            NaN            NaN                 NaN          NaN         NaN   \n",
      "1            NaN            NaN                 NaN          NaN         NaN   \n",
      "2            NaN            NaN                 NaN          NaN         NaN   \n",
      "3            NaN            NaN                 NaN          NaN         NaN   \n",
      "4            NaN            NaN                 NaN          NaN         NaN   \n",
      "\n",
      "   Deaths_Guinea  Deaths_Liberia  Deaths_SierraLeone  Deaths_Nigeria  \\\n",
      "0         1786.0             NaN              2977.0             NaN   \n",
      "1         1781.0             NaN              2943.0             NaN   \n",
      "2         1767.0          3496.0              2915.0             NaN   \n",
      "3            NaN          3496.0                 NaN             NaN   \n",
      "4         1739.0          3471.0              2827.0             NaN   \n",
      "\n",
      "   Deaths_Senegal  Deaths_UnitedStates  Deaths_Spain  Deaths_Mali  \n",
      "0             NaN                  NaN           NaN          NaN  \n",
      "1             NaN                  NaN           NaN          NaN  \n",
      "2             NaN                  NaN           NaN          NaN  \n",
      "3             NaN                  NaN           NaN          NaN  \n",
      "4             NaN                  NaN           NaN          NaN   \n",
      "\n",
      "         Date  Day  Cases_Guinea  Cases_Liberia  Cases_SierraLeone  \\\n",
      "0    1/5/2015  289        2776.0            0.0            10030.0   \n",
      "1    1/4/2015  288        2775.0            0.0             9780.0   \n",
      "2    1/3/2015  287        2769.0         8166.0             9722.0   \n",
      "3    1/2/2015  286           0.0         8157.0                0.0   \n",
      "4  12/31/2014  284        2730.0         8115.0             9633.0   \n",
      "\n",
      "   Cases_Nigeria  Cases_Senegal  Cases_UnitedStates  Cases_Spain  Cases_Mali  \\\n",
      "0            0.0            0.0                 0.0          0.0         0.0   \n",
      "1            0.0            0.0                 0.0          0.0         0.0   \n",
      "2            0.0            0.0                 0.0          0.0         0.0   \n",
      "3            0.0            0.0                 0.0          0.0         0.0   \n",
      "4            0.0            0.0                 0.0          0.0         0.0   \n",
      "\n",
      "   Deaths_Guinea  Deaths_Liberia  Deaths_SierraLeone  Deaths_Nigeria  \\\n",
      "0         1786.0             0.0              2977.0             0.0   \n",
      "1         1781.0             0.0              2943.0             0.0   \n",
      "2         1767.0          3496.0              2915.0             0.0   \n",
      "3            0.0          3496.0                 0.0             0.0   \n",
      "4         1739.0          3471.0              2827.0             0.0   \n",
      "\n",
      "   Deaths_Senegal  Deaths_UnitedStates  Deaths_Spain  Deaths_Mali  \n",
      "0             0.0                  0.0           0.0          0.0  \n",
      "1             0.0                  0.0           0.0          0.0  \n",
      "2             0.0                  0.0           0.0          0.0  \n",
      "3             0.0                  0.0           0.0          0.0  \n",
      "4             0.0                  0.0           0.0          0.0   \n",
      "\n"
     ]
    }
   ],
   "source": [
    "print(ebola.head(), \"\\n\")\n",
    "ebola = ebola.fillna(value = 0)\n",
    "print(ebola.head(), \"\\n\")\n",
    "\n",
    "# Assert that there are no missing values\n",
    "assert pd.notnull(ebola).all().all()\n",
    "\n",
    "# Assert that all values are >= 0\n",
    "assert (ebola >= 0).all().all()"
   ]
  },
  {
   "cell_type": "markdown",
   "metadata": {},
   "source": [
    "# Case Study\n",
    "In this final chapter, you'll apply all of the data cleaning techniques you've learned in this course towards tidying a real-world, messy dataset obtained from the Gapminder Foundation. Once you're done, not only will you have a clean and tidy dataset, you'll also be ready to start working on your own data science projects using the power of Python!\n",
    "## Putting it all together\n",
    "### Exploratory analysis\n",
    "Whenever you obtain a new dataset, your first task should always be to do some exploratory analysis to get a better understanding of the data and diagnose it for any potential issues.\n",
    "\n",
    "The Gapminder data for the 19th century has been loaded into a DataFrame called `g1800s`. In the IPython Shell, use pandas methods such as `.head()`, `.info()`, and `.describe()`, and DataFrame attributes like `.columns` and `.shape` to explore it.\n",
    "\n",
    "Use the information that you acquire from your exploratory analysis to choose the true statement from the options provided below.\n",
    "\n",
    "**Possible Answers**\n",
    "1. The DataFrame has `259` rows and `100` columns.\n",
    "2. The DataFrame has no missing values encoded as `NaN`.\n",
    "3. 100 of the columns are of type `float64` and 1 column is of type `object`.\n",
    "4. The DataFrame takes up `203.2+ KB` of memory."
   ]
  },
  {
   "cell_type": "code",
   "execution_count": 31,
   "metadata": {},
   "outputs": [
    {
     "name": "stdout",
     "output_type": "stream",
     "text": [
      "         Life expectancy   1800   1801   1802   1803   1804   1805   1806  \\\n",
      "0               Abkhazia    NaN    NaN    NaN    NaN    NaN    NaN    NaN   \n",
      "1            Afghanistan  28.21  28.20  28.19  28.18  28.17  28.16  28.15   \n",
      "2  Akrotiri and Dhekelia    NaN    NaN    NaN    NaN    NaN    NaN    NaN   \n",
      "3                Albania  35.40  35.40  35.40  35.40  35.40  35.40  35.40   \n",
      "4                Algeria  28.82  28.82  28.82  28.82  28.82  28.82  28.82   \n",
      "\n",
      "    1807   1808  ...     1890   1891   1892   1893   1894   1895   1896  \\\n",
      "0    NaN    NaN  ...      NaN    NaN    NaN    NaN    NaN    NaN    NaN   \n",
      "1  28.14  28.13  ...    27.29  27.28  27.27  27.26  27.25  27.24  27.23   \n",
      "2    NaN    NaN  ...      NaN    NaN    NaN    NaN    NaN    NaN    NaN   \n",
      "3  35.40  35.40  ...    35.40  35.40  35.40  35.40  35.40  35.40  35.40   \n",
      "4  28.82  28.82  ...    28.82  28.82  28.82  28.82  28.82  28.82  28.82   \n",
      "\n",
      "    1897   1898   1899  \n",
      "0    NaN    NaN    NaN  \n",
      "1  27.22  27.21  27.20  \n",
      "2    NaN    NaN    NaN  \n",
      "3  35.40  35.40  35.40  \n",
      "4  28.82  28.82  28.82  \n",
      "\n",
      "[5 rows x 101 columns]\n",
      "<class 'pandas.core.frame.DataFrame'>\n",
      "RangeIndex: 260 entries, 0 to 259\n",
      "Columns: 101 entries, Life expectancy to 1899\n",
      "dtypes: float64(100), object(1)\n",
      "memory usage: 205.2+ KB\n",
      "None\n",
      "             1800        1801        1802        1803        1804        1805  \\\n",
      "count  201.000000  201.000000  201.000000  201.000000  201.000000  201.000000   \n",
      "mean    31.486020   31.448905   31.463483   31.377413   31.446318   31.562537   \n",
      "std      3.763585    3.755739    3.878204    3.901966    3.877156    3.947957   \n",
      "min     23.390000   23.390000   23.390000   19.600000   23.390000   23.390000   \n",
      "25%     29.000000   28.950000   28.900000   28.900000   28.950000   29.000000   \n",
      "50%     31.800000   31.700000   31.600000   31.500000   31.600000   31.700000   \n",
      "75%     33.900000   33.900000   33.900000   33.800000   33.870000   33.900000   \n",
      "max     42.850000   40.300000   44.370000   44.840000   42.830000   44.270000   \n",
      "\n",
      "             1806        1807        1808        1809     ...            1890  \\\n",
      "count  201.000000  201.000000  201.000000  201.000000     ...      201.000000   \n",
      "mean    31.615970   31.573134   31.376766   31.310448     ...       32.291045   \n",
      "std      4.039261    3.917339    4.017228    3.972970     ...        5.907298   \n",
      "min     23.390000   23.390000   12.480000   13.430000     ...        4.000000   \n",
      "25%     29.000000   29.000000   28.950000   28.820000     ...       29.200000   \n",
      "50%     31.800000   31.800000   31.600000   31.500000     ...       32.000000   \n",
      "75%     34.000000   34.000000   33.870000   33.800000     ...       35.000000   \n",
      "max     45.820000   43.560000   43.550000   41.740000     ...       50.480000   \n",
      "\n",
      "             1891        1892        1893        1894        1895        1896  \\\n",
      "count  201.000000  201.000000  201.000000  201.000000  201.000000  201.000000   \n",
      "mean    32.475373   32.478408   32.533085   32.747214   32.811841   32.895224   \n",
      "std      5.734794    5.825318    6.018269    5.822354    6.067020    6.344388   \n",
      "min      8.000000   14.000000    8.000000   22.180000   22.000000   20.000000   \n",
      "25%     29.200000   29.000000   29.000000   29.200000   29.200000   29.000000   \n",
      "50%     32.000000   32.000000   32.000000   32.000000   32.000000   32.000000   \n",
      "75%     35.100000   35.000000   35.000000   35.000000   35.000000   35.000000   \n",
      "max     51.090000   52.730000   52.580000   52.100000   54.160000   53.840000   \n",
      "\n",
      "             1897        1898        1899  \n",
      "count  201.000000  201.000000  201.000000  \n",
      "mean    32.964279   32.994080   32.962985  \n",
      "std      6.390669    6.336805    6.325265  \n",
      "min     19.000000   19.700000   18.900000  \n",
      "25%     29.200000   29.160000   29.000000  \n",
      "50%     32.000000   32.000000   32.000000  \n",
      "75%     35.000000   35.180000   35.180000  \n",
      "max     54.140000   54.690000   51.620000  \n",
      "\n",
      "[8 rows x 100 columns]\n"
     ]
    },
    {
     "data": {
      "text/plain": [
       "(260, 101)"
      ]
     },
     "execution_count": 31,
     "metadata": {},
     "output_type": "execute_result"
    }
   ],
   "source": [
    "import pandas as pd\n",
    "g1800s = pd.read_csv(\"practice_data/c7/df7-5-g1800s.csv\")\n",
    "print(g1800s.head())\n",
    "print(g1800s.info())\n",
    "print(g1800s.describe())\n",
    "g1800s.columns\n",
    "g1800s.shape"
   ]
  },
  {
   "cell_type": "markdown",
   "metadata": {},
   "source": [
    "### Visualizing your data\n",
    "Since 1800, life expectancy around the globe has been steadily going up. You would expect the Gapminder data to confirm this.\n",
    "\n",
    "The DataFrame `g1800s` has been pre-loaded. Your job in this exercise is to create a scatter plot with life expectancy in `'1800'` on the x-axis and life expectancy in `'1899'` on the y-axis.\n",
    "\n",
    "Here, the goal is to visually check the data for insights as well as errors. When looking at the plot, pay attention to whether the scatter plot takes the form of a diagonal line, and which points fall below or above the diagonal line. This will inform how life expectancy in 1899 changed (or did not change) compared to 1800 for different countries. If points fall on a diagonal line, it means that life expectancy remained the same!\n",
    "\n",
    "**Instructions**\n",
    "* `Import matplotlib.pyplot as plt.`\n",
    "* Use the `.plot()` method on `g1800s` with `kind='scatter'` to create a scatter plot with `'1800'` on the x-axis and `'1899'` on the y-axis.\n",
    "Display the plot."
   ]
  },
  {
   "cell_type": "code",
   "execution_count": 32,
   "metadata": {},
   "outputs": [
    {
     "data": {
      "image/png": "[encoded data removed]",
      "text/plain": [
       "<matplotlib.figure.Figure at 0x16723d5bcc0>"
      ]
     },
     "metadata": {},
     "output_type": "display_data"
    }
   ],
   "source": [
    "# Import matplotlib.pyplot\n",
    "import matplotlib.pyplot as plt\n",
    "\n",
    "# Create the scatter plot\n",
    "g1800s.plot(kind='scatter', x='1800', y='1899')\n",
    "\n",
    "# Specify axis labels\n",
    "plt.xlabel('Life Expectancy by Country in 1800')\n",
    "plt.ylabel('Life Expectancy by Country in 1899')\n",
    "\n",
    "# Specify axis limits\n",
    "plt.xlim(20, 55)\n",
    "plt.ylim(20, 55)\n",
    "\n",
    "# Display the plot\n",
    "plt.show()"
   ]
  },
  {
   "cell_type": "markdown",
   "metadata": {},
   "source": [
    "### Thinking about the question at hand\n",
    "Since you are given life expectancy level data by country and year, you could ask questions about how much the average life expectancy changes over each year.\n",
    "\n",
    "Before continuing, however, it's important to make sure that the following assumptions about the data are true:\n",
    "\n",
    "* `'Life expectancy'` is the first column (index `0`) of the DataFrame.\n",
    "* The other columns contain either null or numeric values.\n",
    "* The numeric values are all greater than or equal to 0.\n",
    "* There is only one instance of each country.\n",
    "\n",
    "You can write a function that you can apply over the entire DataFrame to verify some of these assumptions. Note that spending the time to write such a script will help you when working with other datasets as well.\n",
    "\n",
    "**Instructions**\n",
    "* Define a function called `check_null_or_valid()` that takes in one argument: `row_data`.\n",
    "* Inside the function, convert no_na to a numeric data type using `pd.to_numeric()`.\n",
    "* Write an assert statement to make sure the first column (index `0`) of the `g1800s` DataFrame is `'Life expectancy'`.\n",
    "* Write an assert statement to test that all the values are valid for the `g1800s` DataFrame. Use the `check_null_or_valid()` function placed inside the `.apply()` method for this. Note that because you're applying it over the entire DataFrame, and not just one column, you'll have to chain the `.all()` method twice, and remember that you don't have to `use ()` for functions placed inside `.apply()`.\n",
    "* Write an assert statement to make sure that each country occurs only once in the data. Use the `.value_counts()` method on the `'Life expectancy'` column for this. Specifically, index `0` of `.value_counts()` will contain the most frequently occuring value. If this is equal to 1 for the `'Life expectancy'` column, then you can be certain that no country appears more than once in the data."
   ]
  },
  {
   "cell_type": "code",
   "execution_count": 33,
   "metadata": {
    "collapsed": true
   },
   "outputs": [],
   "source": [
    "def check_null_or_valid(row_data):\n",
    "    \"\"\"Function that takes a row of data,\n",
    "    drops all missing values,\n",
    "    and checks if all remaining values are greater than or equal to 0\n",
    "    \"\"\"\n",
    "    no_na = row_data.dropna()[1:-1] # exclude the 1st and last elements\n",
    "    numeric = pd.to_numeric(no_na)\n",
    "    ge0 = numeric >= 0\n",
    "    return ge0\n",
    "\n",
    "# Check whether the first column is 'Life expectancy'\n",
    "assert g1800s.columns[0] == 'Life expectancy'\n",
    "\n",
    "# Check whether the values in the row are valid\n",
    "assert g1800s.iloc[:, 1:].apply(check_null_or_valid, axis=1).all().all()\n",
    "\n",
    "# Check that there is only one instance of each country\n",
    "assert g1800s['Life expectancy'].value_counts()[0] == 1"
   ]
  },
  {
   "cell_type": "markdown",
   "metadata": {},
   "source": [
    "### Assembling your data\n",
    "Here, three DataFrames have been pre-loaded: `g1800s`, `g1900s`, and `g2000s`. These contain the Gapminder life expectancy data for, respectively, the 19th century, the 20th century, and the 21st century.\n",
    "\n",
    "Your task in this exercise is to concatenate them into a single DataFrame called `gapminder`. This is a row-wise concatenation, similar to how you concatenated the monthly Uber datasets in Chapter 3.\n",
    "\n",
    "**Instructions**\n",
    "* Use `pd.concat()` to concatenate `g1800s`, `g1900s`, and `g2000s` into one DataFrame called `gapminder`. Make sure you pass DataFrames to `pd.concat()` in the form of a list.\n",
    "* Print the shape and the head of the concatenated DataFrame."
   ]
  },
  {
   "cell_type": "code",
   "execution_count": 34,
   "metadata": {},
   "outputs": [
    {
     "name": "stdout",
     "output_type": "stream",
     "text": [
      "(780, 218)\n",
      "    1800   1801   1802   1803   1804   1805   1806   1807   1808   1809  \\\n",
      "0    NaN    NaN    NaN    NaN    NaN    NaN    NaN    NaN    NaN    NaN   \n",
      "1  28.21  28.20  28.19  28.18  28.17  28.16  28.15  28.14  28.13  28.12   \n",
      "2    NaN    NaN    NaN    NaN    NaN    NaN    NaN    NaN    NaN    NaN   \n",
      "3  35.40  35.40  35.40  35.40  35.40  35.40  35.40  35.40  35.40  35.40   \n",
      "4  28.82  28.82  28.82  28.82  28.82  28.82  28.82  28.82  28.82  28.82   \n",
      "\n",
      "           ...            2008  2009  2010  2011  2012  2013  2014  2015  \\\n",
      "0          ...             NaN   NaN   NaN   NaN   NaN   NaN   NaN   NaN   \n",
      "1          ...             NaN   NaN   NaN   NaN   NaN   NaN   NaN   NaN   \n",
      "2          ...             NaN   NaN   NaN   NaN   NaN   NaN   NaN   NaN   \n",
      "3          ...             NaN   NaN   NaN   NaN   NaN   NaN   NaN   NaN   \n",
      "4          ...             NaN   NaN   NaN   NaN   NaN   NaN   NaN   NaN   \n",
      "\n",
      "   2016        Life expectancy  \n",
      "0   NaN               Abkhazia  \n",
      "1   NaN            Afghanistan  \n",
      "2   NaN  Akrotiri and Dhekelia  \n",
      "3   NaN                Albania  \n",
      "4   NaN                Algeria  \n",
      "\n",
      "[5 rows x 218 columns]\n"
     ]
    }
   ],
   "source": [
    "g1900s = pd.read_csv(\"practice_data/c7/df7-5-g1900s.csv\")\n",
    "g2000s = pd.read_csv(\"practice_data/c7/df7-5-g2000s.csv\")\n",
    "\n",
    "# Concatenate the DataFrames row-wise\n",
    "gapminder = pd.concat([g1800s, g1900s, g2000s])\n",
    "\n",
    "# Print the shape of gapminder\n",
    "print(gapminder.shape)\n",
    "\n",
    "# Print the head of gapminder\n",
    "print(gapminder.head())"
   ]
  },
  {
   "cell_type": "markdown",
   "metadata": {},
   "source": [
    "## Initial impression of the data\n",
    "### Reshaping your data\n",
    "Now that you have all the data combined into a single DataFrame, the next step is to reshape it into a tidy data format.\n",
    "\n",
    "Currently, the `gapminder` DataFrame has a separate column for each year. What you want instead is a single column that contains the year, and a single column that represents the average life expectancy for each year and country. By having year in its own column, you can use it as a predictor variable in a later analysis.\n",
    "\n",
    "You can convert the DataFrame into the desired tidy format by melting it.\n",
    "\n",
    "**Instructions**\n",
    "* Reshape `gapminder` by melting it. Keep `'Life expectancy'` fixed by specifying it as an argument to the `id_vars` parameter.\n",
    "* Rename the three columns of the melted DataFrame to `'country'`, `'year'`, and `'life_expectancy'` by passing them in as a list to `gapminder_melt.columns`.\n",
    "* Print the head of the melted DataFrame."
   ]
  },
  {
   "cell_type": "code",
   "execution_count": 35,
   "metadata": {},
   "outputs": [
    {
     "name": "stdout",
     "output_type": "stream",
     "text": [
      "                 country  year  life_expectancy\n",
      "0               Abkhazia  1800              NaN\n",
      "1            Afghanistan  1800            28.21\n",
      "2  Akrotiri and Dhekelia  1800              NaN\n",
      "3                Albania  1800            35.40\n",
      "4                Algeria  1800            28.82\n"
     ]
    }
   ],
   "source": [
    "# Melt gapminder: gapminder_melt\n",
    "gapminder_melt = pd.melt(gapminder, id_vars = 'Life expectancy')\n",
    "\n",
    "# Rename the columns\n",
    "gapminder_melt.columns = ['country', 'year', 'life_expectancy']\n",
    "\n",
    "# Print the head of gapminder_melt\n",
    "print(gapminder_melt.head())"
   ]
  },
  {
   "cell_type": "markdown",
   "metadata": {},
   "source": [
    "### Checking the data types\n",
    "Now that your data is in the proper shape, you need to ensure that the columns are of the proper data type. That is, you need to ensure that `country` is of type `object`, `year` is of type `int64`, and `life_expectancy` is of type `float64`.\n",
    "\n",
    "The tidy DataFrame has been pre-loaded as `gapminder`. Explore it in the IPython Shell using the `.info()` method. Notice that the column `'year'` is of type `object`. This is incorrect, so you'll need to use the `pd.to_numeric()` function to convert it to a `numeric` data type.\n",
    "\n",
    "`NumPy` and `pandas` have been pre-imported as `np` and `pd`.\n",
    "\n",
    "**Instructions**\n",
    "* Convert the `year` column of `gapminder` using `pd.to_numeric()`.\n",
    "* Assert that the `country` column is of type `np.object`. This has been done for you.\n",
    "* Assert that the `year` column is of type `np.int64`.\n",
    "* Assert that the `life_expectancy` column is of type `np.float64`."
   ]
  },
  {
   "cell_type": "code",
   "execution_count": 36,
   "metadata": {
    "collapsed": true
   },
   "outputs": [],
   "source": [
    "gapminder = gapminder_melt\n",
    "\n",
    "# Convert the year column to numeric\n",
    "gapminder.year = pd.to_numeric(gapminder.year)\n",
    "\n",
    "# Test if country is of type object\n",
    "assert gapminder.country.dtypes == np.object\n",
    "\n",
    "# Test if year is of type int64\n",
    "assert gapminder.year.dtypes == np.int64\n",
    "\n",
    "# Test if life_expectancy is of type float64\n",
    "assert gapminder.life_expectancy.dtypes == np.float64"
   ]
  },
  {
   "cell_type": "markdown",
   "metadata": {},
   "source": [
    "### Looking at country spellings\n",
    "Having tidied your DataFrame and checked the data types, your next task in the data cleaning process is to look at the `'country'` column to see if there are any special or invalid characters you may need to deal with.\n",
    "\n",
    "It is reasonable to assume that country names will contain:\n",
    "\n",
    "* The set of lower and upper case letters.\n",
    "* Whitespace between words.\n",
    "* Periods for any abbreviations.\n",
    "\n",
    "To confirm that this is the case, you can leverage the power of regular expressions again. For common operations like this, Python has a built-in string method - `str.contains()` - which takes a regular expression pattern, and applies it to the Series, returning `True` if there is a match, and `False` otherwise.\n",
    "\n",
    "Since here you want to find the values that do not match, you have to invert the boolean, which can be done using `~`. This Boolean series can then be used to get the Series of countries that have invalid names.\n",
    "\n",
    "**Instructions**\n",
    "* Create a Series called `countries` consisting of the `'country'` column of `gapminder`.\n",
    "* Drop all duplicates from countries using the `.drop_duplicates()` method.\n",
    "* Write a regular expression that tests your assumptions of what characters belong in countries:\n",
    "    * Anchor the pattern to match exactly what you want by placing a `^` in the beginning and `$` in the end.\n",
    "    * Use `A-Za-z` to match the set of lower and upper case letters, `\\.` to match periods, and `\\s` to match whitespace between words.\n",
    "* Use `str.contains()` to create a Boolean vector representing values that match the pattern.\n",
    "* Invert the mask by placing a `~` before it.\n",
    "* Subset the countries series using the `.loc[]` accessor and `mask_inverse`. Check the invalid country names!"
   ]
  },
  {
   "cell_type": "code",
   "execution_count": 37,
   "metadata": {},
   "outputs": [
    {
     "name": "stdout",
     "output_type": "stream",
     "text": [
      "49             Congo, Dem. Rep.\n",
      "50                  Congo, Rep.\n",
      "53               Cote d\\'Ivoire\n",
      "73       Falkland Is (Malvinas)\n",
      "93                Guinea-Bissau\n",
      "98             Hong Kong, China\n",
      "118    United Korea (former)\\\\n\n",
      "131                Macao, China\n",
      "132              Macedonia, FYR\n",
      "145       Micronesia, Fed. Sts.\n",
      "161             Ngorno-Karabakh\n",
      "187              St. Barth?lemy\n",
      "193      St.-Pierre-et-Miquelon\n",
      "225                 Timor-Leste\n",
      "251       Virgin Islands (U.S.)\n",
      "252        North Yemen (former)\n",
      "253        South Yemen (former)\n",
      "258                       ?land\n",
      "Name: country, dtype: object\n"
     ]
    }
   ],
   "source": [
    "# Create the series of countries: countries\n",
    "countries = gapminder.country\n",
    "\n",
    "# Drop all the duplicates from countries\n",
    "countries = countries.drop_duplicates()\n",
    "\n",
    "# Write the regular expression: pattern\n",
    "pattern = '^[A-Za-z\\.\\s]*$'\n",
    "\n",
    "# Create the Boolean vector: mask\n",
    "mask = countries.str.contains(pattern)\n",
    "\n",
    "# Invert the mask: mask_inverse\n",
    "mask_inverse = ~mask\n",
    "\n",
    "# Subset countries using mask_inverse: invalid_countries\n",
    "invalid_countries = countries.loc[mask_inverse]\n",
    "\n",
    "# Print invalid_countries\n",
    "print(invalid_countries)"
   ]
  },
  {
   "cell_type": "markdown",
   "metadata": {},
   "source": [
    "### More data cleaning and processing\n",
    "It's now time to deal with the missing data. There are several strategies for this: You can drop them, fill them in using the mean of the column or row that the missing value is in (also known as [imputation](https://en.wikipedia.org/wiki/Imputation_(statistics))), or, if you are dealing with time series data, use a forward fill or backward fill, in which you replace missing values in a column with the most recent known value in the column. See [pandas Foundations](https://www.datacamp.com/courses/pandas-foundations) for more on forward fill and backward fill.\n",
    "\n",
    "In general, it is not the best idea to drop missing values, because in doing so you may end up throwing away useful information. In this data, the missing values refer to years where no estimate for life expectancy is available for a given country. You could fill in, or guess what these life expectancies could be by looking at the average life expectancies for other countries in that year, for example. Whichever strategy you go with, it is important to carefully consider all options and understand how they will affect your data.\n",
    "\n",
    "In this exercise, you'll practice dropping missing values. Your job is to drop all the rows that have `NaN` in the `life_expectancy` column. Before doing so, it would be valuable to use assert statements to confirm that `year` and `country` do not have any missing values.\n",
    "\n",
    "Begin by printing the shape of `gapminder` in the IPython Shell prior to dropping the missing values. Complete the exercise to find out what its shape will be after dropping the missing values!\n",
    "\n",
    "**Instructions**\n",
    "* Assert that `country` and `year` do not contain any missing values. The first assert statement has been written for you. Note the chaining of the `.all()` method to `pd.notnull()` to confirm that all values in the column are not null.\n",
    "* Drop the rows in the data where any observation in `life_expectancy` is missing. As you confirmed that country and year don't have missing values, you can use the `.dropna()` method on the entire gapminder DataFrame, because any missing values would have to be in the `life_expectancy` column. The `.dropna()` method has the default keyword arguments `axis=0` and `how='any'`, which specify that rows with any missing values should be dropped.\n",
    "* Print the shape of `gapminder`."
   ]
  },
  {
   "cell_type": "code",
   "execution_count": 38,
   "metadata": {},
   "outputs": [
    {
     "name": "stdout",
     "output_type": "stream",
     "text": [
      "(43857, 3)\n"
     ]
    }
   ],
   "source": [
    "# Assert that country does not contain any missing values\n",
    "assert pd.notnull(gapminder.country).all()\n",
    "\n",
    "# Assert that year does not contain any missing values\n",
    "assert pd.notnull(gapminder.year).all()\n",
    "\n",
    "# Drop the missing values\n",
    "gapminder = gapminder.dropna()\n",
    "\n",
    "# Print the shape of gapminder\n",
    "print(gapminder.shape)"
   ]
  },
  {
   "cell_type": "markdown",
   "metadata": {},
   "source": [
    "### Wrapping up\n",
    "Now that you have a clean and tidy dataset, you can do a bit of visualization and aggregation. In this exercise, you'll begin by creating a histogram of the `life_expectancy` column. You should not get any values under 0 and you should see something reasonable on the higher end of the `life_expectancy` age range.\n",
    "\n",
    "Your next task is to investigate how average life expectancy changed over the years. To do this, you need to subset the data by each year, get the `life_expectancy` column from each subset, and take an average of the values. You can achieve this using the [`.groupby()` method](http://pandas.pydata.org/pandas-docs/stable/generated/pandas.DataFrame.groupby.html). This `.groupby()` method is covered in greater depth in [Manipulating DataFrames with pandas](https://www.datacamp.com/courses/manipulating-dataframes-with-pandas).\n",
    "\n",
    "Finally, you can save your tidy and summarized DataFrame to a file using the `.to_csv()` method.\n",
    "\n",
    "`Matplotlib` and `pandas` have been pre-imported as `plt` and `pd`. Go for it!\n",
    "\n",
    "**Instructions**\n",
    "* Create a histogram of the `life_expectancy` column using the `.plot()` method of `gapminder`. Specify `kind='hist'`.\n",
    "* Group `gapminder` by `'year'` and aggregate `'life_expectancy'` by the mean. To do this:\n",
    "* Use the `.groupby()` method on `gapminder` with `'year'` as the argument. Then select `'life_expectancy'` and chain the `.mean()` method to it.\n",
    "* Print the head and tail of `gapminder_agg`. This has been done for you.\n",
    "* Create a line plot of average life expectancy per year by using the `.plot()` method (without any arguments) on `gapminder_agg`.\n",
    "* Save `gapminder` and `gapminder_agg` to csv files called `'gapminder.csv'` and `'gapminder_agg.csv'`, respectively, using the `.to_csv()` method."
   ]
  },
  {
   "cell_type": "code",
   "execution_count": 39,
   "metadata": {},
   "outputs": [
    {
     "name": "stdout",
     "output_type": "stream",
     "text": [
      "year\n",
      "1800    31.486020\n",
      "1801    31.448905\n",
      "1802    31.463483\n",
      "1803    31.377413\n",
      "1804    31.446318\n",
      "Name: life_expectancy, dtype: float64\n",
      "year\n",
      "2012    71.663077\n",
      "2013    71.916106\n",
      "2014    72.088125\n",
      "2015    72.321010\n",
      "2016    72.556635\n",
      "Name: life_expectancy, dtype: float64\n"
     ]
    },
    {
     "data": {
      "image/png": "[encoded data removed]",
      "text/plain": [
       "<matplotlib.figure.Figure at 0x1671ee30748>"
      ]
     },
     "metadata": {},
     "output_type": "display_data"
    }
   ],
   "source": [
    "# Add first subplot\n",
    "plt.subplot(2, 1, 1) \n",
    "\n",
    "# Create a histogram of life_expectancy\n",
    "gapminder.life_expectancy.plot(kind = 'hist')\n",
    "\n",
    "# Group gapminder: gapminder_agg\n",
    "gapminder_agg = gapminder.groupby('year')['life_expectancy'].mean()\n",
    "\n",
    "# Print the head of gapminder_agg\n",
    "print(gapminder_agg.head())\n",
    "\n",
    "# Print the tail of gapminder_agg\n",
    "print(gapminder_agg.tail())\n",
    "\n",
    "# Add second subplot\n",
    "plt.subplot(2, 1, 2)\n",
    "\n",
    "# Create a line plot of life expectancy per year\n",
    "gapminder_agg.plot()\n",
    "\n",
    "# Add title and specify axis labels\n",
    "plt.title('Life expectancy over the years')\n",
    "plt.ylabel('Life expectancy')\n",
    "plt.xlabel('Year')\n",
    "\n",
    "# Display the plots\n",
    "plt.tight_layout()\n",
    "plt.show()\n",
    "\n",
    "# Save both DataFrames to csv files\n",
    "gapminder.to_csv('gapminder.csv')\n",
    "gapminder_agg.to_csv('gapminder_agg.csv')"
   ]
  }
 ],
 "metadata": {
  "kernelspec": {
   "display_name": "Python 3",
   "language": "python",
   "name": "python3"
  },
  "language_info": {
   "codemirror_mode": {
    "name": "ipython",
    "version": 3
   },
   "file_extension": ".py",
   "mimetype": "text/x-python",
   "name": "python",
   "nbconvert_exporter": "python",
   "pygments_lexer": "ipython3",
   "version": "3.6.1"
  }
 },
 "nbformat": 4,
 "nbformat_minor": 2
}
